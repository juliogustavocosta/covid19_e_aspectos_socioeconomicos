{
  "nbformat": 4,
  "nbformat_minor": 0,
  "metadata": {
    "colab": {
      "name": "covid19_e_aspectos_socioeconomicos_03.ipynb",
      "provenance": [],
      "collapsed_sections": []
    },
    "kernelspec": {
      "display_name": "Python 3",
      "name": "python3"
    }
  },
  "cells": [
    {
      "cell_type": "markdown",
      "metadata": {
        "id": "Ae09N_daJwjQ"
      },
      "source": [
        "#Estudo sobre o emprego de Técnicas de **Machine Learning**\n",
        "Este estudo, para tanto, implicará reunir de dados de natureza sócioeconômica com o fim de verificar a relação entre esses e a covid-19, no ambiente dos municípios brasileiros"
      ]
    },
    {
      "cell_type": "markdown",
      "metadata": {
        "id": "n89O7k4NuEWv"
      },
      "source": [
        "##1. **Preparação** do Ambiente"
      ]
    },
    {
      "cell_type": "code",
      "metadata": {
        "colab": {
          "base_uri": "https://localhost:8080/"
        },
        "id": "h_6kMTaSRnaZ",
        "outputId": "35084e41-117d-450c-8329-67e87905396a"
      },
      "source": [
        "### Montar o drive com os arquivos de dados\n",
        "\n",
        "from google.colab import drive\n",
        "drive.mount('/content/drive')"
      ],
      "execution_count": 1,
      "outputs": [
        {
          "output_type": "stream",
          "text": [
            "Mounted at /content/drive\n"
          ],
          "name": "stdout"
        }
      ]
    },
    {
      "cell_type": "code",
      "metadata": {
        "id": "hhwWHxaz6qvW",
        "colab": {
          "base_uri": "https://localhost:8080/"
        },
        "outputId": "fb8adbc3-e3d4-44c4-8937-62ac4dec713a"
      },
      "source": [
        "### Realizar atualizações e carregamento de libs\n",
        "\n",
        "!pip install --upgrade scikit-learn\n",
        "!pip install --upgrade pivottablejs\n",
        "\n",
        "import zipfile\n",
        "import pandas as pd\n",
        "import numpy as np\n",
        "import seaborn as sns\n",
        "import matplotlib.pyplot as plt\n",
        "from sklearn.neighbors import LocalOutlierFactor\n",
        "from sklearn.model_selection import train_test_split\n",
        "from sklearn.preprocessing import LabelEncoder\n",
        "from sklearn.preprocessing import OneHotEncoder\n",
        "from sklearn.preprocessing import OrdinalEncoder\n",
        "from sklearn.neighbors import KNeighborsClassifier\n",
        "from sklearn.pipeline import Pipeline, FeatureUnion\n",
        "from sklearn.model_selection import StratifiedKFold, KFold, StratifiedShuffleSplit\n",
        "from sklearn.tree import DecisionTreeClassifier\n",
        "from sklearn.model_selection import GridSearchCV\n",
        "from sklearn.metrics import classification_report\n",
        "from sklearn.metrics import confusion_matrix\n",
        "from sklearn.metrics import plot_confusion_matrix\n",
        "from sklearn.metrics import ConfusionMatrixDisplay\n",
        "from sklearn.tree import plot_tree\n",
        "import joblib\n",
        "\n",
        "from sklearn.base import BaseEstimator, TransformerMixin\n",
        "from sklearn.preprocessing import MinMaxScaler\n",
        "from sklearn.preprocessing import StandardScaler\n",
        "from sklearn.feature_selection import SelectKBest, f_classif, mutual_info_classif, chi2\n",
        "\n",
        "from sklearn.metrics import make_scorer\n",
        "from sklearn.metrics import accuracy_score\n",
        "\n",
        "# Rich visual representation of estimators (new 0.23.2)\n",
        "from sklearn import set_config\n",
        "set_config(display='diagram')\n",
        "\n",
        "from pandas_profiling import ProfileReport\n",
        "import matplotlib.pyplot as plt\n",
        "import matplotlib.image as mpimg\n",
        "%matplotlib inline\n",
        "\n",
        "from scipy.stats import randint\n",
        "from sklearn.model_selection import RandomizedSearchCV\n",
        "from sklearn.ensemble import AdaBoostClassifier, GradientBoostingClassifier, RandomForestClassifier\n"
      ],
      "execution_count": 2,
      "outputs": [
        {
          "output_type": "stream",
          "text": [
            "Collecting scikit-learn\n",
            "\u001b[?25l  Downloading https://files.pythonhosted.org/packages/5c/a1/273def87037a7fb010512bbc5901c31cfddfca8080bc63b42b26e3cc55b3/scikit_learn-0.23.2-cp36-cp36m-manylinux1_x86_64.whl (6.8MB)\n",
            "\u001b[K     |████████████████████████████████| 6.8MB 11.7MB/s \n",
            "\u001b[?25hRequirement already satisfied, skipping upgrade: scipy>=0.19.1 in /usr/local/lib/python3.6/dist-packages (from scikit-learn) (1.4.1)\n",
            "Requirement already satisfied, skipping upgrade: joblib>=0.11 in /usr/local/lib/python3.6/dist-packages (from scikit-learn) (0.17.0)\n",
            "Requirement already satisfied, skipping upgrade: numpy>=1.13.3 in /usr/local/lib/python3.6/dist-packages (from scikit-learn) (1.18.5)\n",
            "Collecting threadpoolctl>=2.0.0\n",
            "  Downloading https://files.pythonhosted.org/packages/f7/12/ec3f2e203afa394a149911729357aa48affc59c20e2c1c8297a60f33f133/threadpoolctl-2.1.0-py3-none-any.whl\n",
            "Installing collected packages: threadpoolctl, scikit-learn\n",
            "  Found existing installation: scikit-learn 0.22.2.post1\n",
            "    Uninstalling scikit-learn-0.22.2.post1:\n",
            "      Successfully uninstalled scikit-learn-0.22.2.post1\n",
            "Successfully installed scikit-learn-0.23.2 threadpoolctl-2.1.0\n",
            "Collecting pivottablejs\n",
            "  Downloading https://files.pythonhosted.org/packages/0b/0f/46f1c9a1c9bf1540d3b7803753517fa9755cddc648769ba8cd67de82b51c/pivottablejs-0.9.0-py2.py3-none-any.whl\n",
            "Installing collected packages: pivottablejs\n",
            "Successfully installed pivottablejs-0.9.0\n"
          ],
          "name": "stdout"
        }
      ]
    },
    {
      "cell_type": "markdown",
      "metadata": {
        "id": "-31yFg6Ot6P-"
      },
      "source": [
        "##2. **Carregamento e Preparação** do dataset"
      ]
    },
    {
      "cell_type": "code",
      "metadata": {
        "colab": {
          "base_uri": "https://localhost:8080/"
        },
        "id": "Dr1lxC9cTDtc",
        "outputId": "97aea8bb-0971-43cb-8c38-3b28383f13af"
      },
      "source": [
        "### Carregar o dataset e exibir infos necessarias a sua análise e preparação\n",
        "###\n",
        "\n",
        "DIR_BASE = '/content/drive/MyDrive/Colab Notebooks/COVID-19/Databases'\n",
        "\n",
        "with zipfile.ZipFile(DIR_BASE+'/dataset_02.zip','r') as zip_ref:\n",
        "  zip_ref.extractall(DIR_BASE+'/')\n",
        "\n",
        "df_origin = pd.read_csv(DIR_BASE+'/dataset_02.csv', sep=';')\n",
        "df_origin.info()"
      ],
      "execution_count": 118,
      "outputs": [
        {
          "output_type": "stream",
          "text": [
            "<class 'pandas.core.frame.DataFrame'>\n",
            "RangeIndex: 4643 entries, 0 to 4642\n",
            "Data columns (total 36 columns):\n",
            " #   Column           Non-Null Count  Dtype  \n",
            "---  ------           --------------  -----  \n",
            " 0   IBGE             4643 non-null   int64  \n",
            " 1   PMATPUB_EF       4643 non-null   float64\n",
            " 2   PMATPUB_EM       4643 non-null   float64\n",
            " 3   DIST_EF_PUB      4643 non-null   float64\n",
            " 4   DIST_EM_PUB      4643 non-null   float64\n",
            " 5   IDEB_AI          4643 non-null   float64\n",
            " 6   IDEB_AF          4643 non-null   float64\n",
            " 7   DOCSUP_EF_PUB    4643 non-null   float64\n",
            " 8   DOCSUP_EM_PUB    4643 non-null   float64\n",
            " 9   TXMOINF          4643 non-null   float64\n",
            " 10  TXBRUTAMORT      4643 non-null   float64\n",
            " 11  TXCOBPLP         4643 non-null   float64\n",
            " 12  PINTERSAP        4643 non-null   float64\n",
            " 13  PINTERDRSAI      4643 non-null   float64\n",
            " 14  REN_TRPCBF_D     4643 non-null   float64\n",
            " 15  REN_TRPCBPC_D    4643 non-null   float64\n",
            " 16  PDEFAGUA         4643 non-null   float64\n",
            " 17  PDEFESGOTO       4643 non-null   float64\n",
            " 18  PDEFLIXO         4643 non-null   float64\n",
            " 19  PDEFSAN          4643 non-null   float64\n",
            " 20  PPOB_POS         4643 non-null   float64\n",
            " 21  PBF              4643 non-null   float64\n",
            " 22  SNIS_PAGUA       4643 non-null   float64\n",
            " 23  PFOCOS           4643 non-null   float64\n",
            " 24  POP_TOT          4643 non-null   float64\n",
            " 25  estado           4643 non-null   object \n",
            " 26  municipio        4643 non-null   object \n",
            " 27  casosAcumulado   4643 non-null   float64\n",
            " 28  obitosAcumulado  4643 non-null   float64\n",
            " 29  reg_metro        4643 non-null   object \n",
            " 30  Região           4643 non-null   object \n",
            " 31  Porte            4643 non-null   object \n",
            " 32  Capital          4643 non-null   object \n",
            " 33  LON              4643 non-null   float64\n",
            " 34  LAT              4643 non-null   float64\n",
            " 35  ANNUAL           4643 non-null   float64\n",
            "dtypes: float64(29), int64(1), object(6)\n",
            "memory usage: 1.3+ MB\n"
          ],
          "name": "stdout"
        }
      ]
    },
    {
      "cell_type": "code",
      "metadata": {
        "colab": {
          "base_uri": "https://localhost:8080/"
        },
        "id": "WStkOOL5QMn2",
        "outputId": "445befde-17fd-4671-e171-dbbb7ebce0cd"
      },
      "source": [
        "df = df_origin.copy()\n",
        "### Alguns ajustes - remoção de variáveis que estão relacionadas ao estado, e não\n",
        "###     ao município\n",
        "###\n",
        "\n",
        "df = df_origin.drop(columns=['IBGE', 'municipio', 'Capital', 'ANNUAL', 'estado'], errors=True)\n",
        "df.drop_duplicates(inplace=True)\n",
        "# df = df.astype({ \n",
        "#   'POP_TOT': float\n",
        "# })\n",
        "df.columns"
      ],
      "execution_count": 119,
      "outputs": [
        {
          "output_type": "execute_result",
          "data": {
            "text/plain": [
              "Index(['PMATPUB_EF', 'PMATPUB_EM', 'DIST_EF_PUB', 'DIST_EM_PUB', 'IDEB_AI',\n",
              "       'IDEB_AF', 'DOCSUP_EF_PUB', 'DOCSUP_EM_PUB', 'TXMOINF', 'TXBRUTAMORT',\n",
              "       'TXCOBPLP', 'PINTERSAP', 'PINTERDRSAI', 'REN_TRPCBF_D', 'REN_TRPCBPC_D',\n",
              "       'PDEFAGUA', 'PDEFESGOTO', 'PDEFLIXO', 'PDEFSAN', 'PPOB_POS', 'PBF',\n",
              "       'SNIS_PAGUA', 'PFOCOS', 'POP_TOT', 'casosAcumulado', 'obitosAcumulado',\n",
              "       'reg_metro', 'Região', 'Porte', 'LON', 'LAT'],\n",
              "      dtype='object')"
            ]
          },
          "metadata": {
            "tags": []
          },
          "execution_count": 119
        }
      ]
    },
    {
      "cell_type": "code",
      "metadata": {
        "id": "OPEyZ0ETF-f9"
      },
      "source": [
        "### Criando as variáveis que demonstram o grau de incidência e letalidade\n",
        "###\n",
        "### Observação: são considerados os casos acumulados até à data de 01 de\n",
        "###     Novembro de 2020\n",
        "###\n",
        "\n",
        "if ('letalidade' in df.columns): \n",
        "  df.drop(columns=['letalidade'], inplace=True)\n",
        "df = df.assign(letalidade=\"\")\n",
        "\n",
        "df.loc[:, 'letalidade'] = (df['obitosAcumulado']/df['POP_TOT'])\n",
        "\n",
        "if ('incidencia' in df.columns): \n",
        "  df.drop(columns=['incidencia'], inplace=True)\n",
        "df = df.assign(incidencia=\"\")\n",
        "\n",
        "df.loc[:, 'incidencia'] = (df['casosAcumulado']/df['POP_TOT'])\n"
      ],
      "execution_count": 120,
      "outputs": []
    },
    {
      "cell_type": "code",
      "metadata": {
        "colab": {
          "base_uri": "https://localhost:8080/"
        },
        "id": "Fo_dK0cl9FUx",
        "outputId": "8a275611-1e1e-49dc-8065-b76008fb0147"
      },
      "source": [
        "### Descrição de quartiles para criar as classes da variáveis alvo a partir das \n",
        "###    variaveis da celula anterior\n",
        "###\n",
        "\n",
        "print(df['incidencia'].describe())\n",
        "print()\n",
        "print(df['letalidade'].describe())"
      ],
      "execution_count": 122,
      "outputs": [
        {
          "output_type": "stream",
          "text": [
            "count    4643.000000\n",
            "mean        0.021440\n",
            "std         0.017617\n",
            "min         0.000106\n",
            "25%         0.009433\n",
            "50%         0.017067\n",
            "75%         0.028174\n",
            "max         0.207346\n",
            "Name: incidencia, dtype: float64\n",
            "\n",
            "count    4643.000000\n",
            "mean        0.000442\n",
            "std         0.000372\n",
            "min         0.000000\n",
            "25%         0.000159\n",
            "50%         0.000365\n",
            "75%         0.000651\n",
            "max         0.002589\n",
            "Name: letalidade, dtype: float64\n"
          ],
          "name": "stdout"
        }
      ]
    },
    {
      "cell_type": "code",
      "metadata": {
        "id": "Tgpr6BKa8BfD"
      },
      "source": [
        "### Categorizar o 'Y' (variável alvo) com base os quartiles vistos na célula\n",
        "###     anterior. 'Y' como relação de casos e óbitos acumulados por total de \n",
        "###     população\n",
        "###\n",
        "\n",
        "if ('i_t' in df.columns): \n",
        "  df.drop(columns=['i_t'], inplace=True)\n",
        "df = df.assign(i_t=\"\")\n",
        "\n",
        "df.loc[df['incidencia'] <= 0.009, ('i_t')] = 1\n",
        "df.loc[(df['incidencia'] > 0.009) & (df['incidencia'] <= 0.017), ('i_t')] = 2\n",
        "df.loc[(df['incidencia'] > 0.017) & (df['incidencia'] <= 0.028), ('i_t')] = 3\n",
        "df.loc[df['incidencia'] > 0.028, ('i_t')] = 4\n",
        "\n",
        "if ('l_t' in df.columns): \n",
        "  df.drop(columns=['l_t'], inplace=True)\n",
        "df = df.assign(l_t=\"\")\n",
        "\n",
        "df.loc[df['letalidade'] <= 0.0001, ('l_t')] = 1\n",
        "df.loc[(df['letalidade'] > 0.0001) & (df['letalidade'] <= 0.0003), ('l_t')] = 2\n",
        "df.loc[(df['letalidade'] > 0.0003) & (df['letalidade'] <= 0.0006), ('l_t')] = 3\n",
        "df.loc[df['letalidade'] > 0.0006, ('l_t')] = 4\n",
        "\n",
        "df = df.astype({ 'i_t': int, 'l_t': int })\n",
        "\n",
        "if ('delta_il' in df.columns): \n",
        "  df.drop(columns=['delta_il'], inplace=True)\n",
        "df = df.assign(delta_il=\"\")\n",
        "\n",
        "df.loc[:,'delta_il'] = abs(df['i_t'] - df['l_t'])"
      ],
      "execution_count": 124,
      "outputs": []
    },
    {
      "cell_type": "code",
      "metadata": {
        "colab": {
          "base_uri": "https://localhost:8080/",
          "height": 301
        },
        "id": "isLs0jJA79Na",
        "outputId": "a6a18826-03ce-4bca-81be-81db147bbc3b"
      },
      "source": [
        "df.head()"
      ],
      "execution_count": null,
      "outputs": [
        {
          "output_type": "execute_result",
          "data": {
            "text/html": [
              "<div>\n",
              "<style scoped>\n",
              "    .dataframe tbody tr th:only-of-type {\n",
              "        vertical-align: middle;\n",
              "    }\n",
              "\n",
              "    .dataframe tbody tr th {\n",
              "        vertical-align: top;\n",
              "    }\n",
              "\n",
              "    .dataframe thead th {\n",
              "        text-align: right;\n",
              "    }\n",
              "</style>\n",
              "<table border=\"1\" class=\"dataframe\">\n",
              "  <thead>\n",
              "    <tr style=\"text-align: right;\">\n",
              "      <th></th>\n",
              "      <th>PMATPUB_EF</th>\n",
              "      <th>PMATPUB_EM</th>\n",
              "      <th>DIST_EF_PUB</th>\n",
              "      <th>DIST_EM_PUB</th>\n",
              "      <th>IDEB_AI</th>\n",
              "      <th>IDEB_AF</th>\n",
              "      <th>DOCSUP_EF_PUB</th>\n",
              "      <th>DOCSUP_EM_PUB</th>\n",
              "      <th>TXMOINF</th>\n",
              "      <th>TXBRUTAMORT</th>\n",
              "      <th>TXCOBPLP</th>\n",
              "      <th>PINTERSAP</th>\n",
              "      <th>PINTERDRSAI</th>\n",
              "      <th>REN_TRPCBF_D</th>\n",
              "      <th>REN_TRPCBPC_D</th>\n",
              "      <th>PDEFAGUA</th>\n",
              "      <th>PDEFESGOTO</th>\n",
              "      <th>PDEFLIXO</th>\n",
              "      <th>PDEFSAN</th>\n",
              "      <th>PPOB_POS</th>\n",
              "      <th>PBF</th>\n",
              "      <th>SNIS_PAGUA</th>\n",
              "      <th>PFOCOS</th>\n",
              "      <th>POP_TOT</th>\n",
              "      <th>casosAcumulado</th>\n",
              "      <th>obitosAcumulado</th>\n",
              "      <th>Região</th>\n",
              "      <th>LON</th>\n",
              "      <th>LAT</th>\n",
              "      <th>letalidade</th>\n",
              "      <th>incidencia</th>\n",
              "      <th>i_t</th>\n",
              "      <th>l_t</th>\n",
              "      <th>delta_il</th>\n",
              "    </tr>\n",
              "  </thead>\n",
              "  <tbody>\n",
              "    <tr>\n",
              "      <th>0</th>\n",
              "      <td>100.00</td>\n",
              "      <td>100.00</td>\n",
              "      <td>19.9</td>\n",
              "      <td>25.1</td>\n",
              "      <td>6.2</td>\n",
              "      <td>4.8</td>\n",
              "      <td>58.1</td>\n",
              "      <td>61.7</td>\n",
              "      <td>14.12</td>\n",
              "      <td>5.39</td>\n",
              "      <td>6.01</td>\n",
              "      <td>41.53</td>\n",
              "      <td>4.64</td>\n",
              "      <td>79.30</td>\n",
              "      <td>142.56</td>\n",
              "      <td>80.81</td>\n",
              "      <td>93.09</td>\n",
              "      <td>53.62</td>\n",
              "      <td>50.15</td>\n",
              "      <td>84.71</td>\n",
              "      <td>66.31</td>\n",
              "      <td>73.27</td>\n",
              "      <td>0.52</td>\n",
              "      <td>25437.0</td>\n",
              "      <td>903.0</td>\n",
              "      <td>11.0</td>\n",
              "      <td>Região Norte</td>\n",
              "      <td>-61.9958</td>\n",
              "      <td>-11.9287</td>\n",
              "      <td>0.000432</td>\n",
              "      <td>0.035499</td>\n",
              "      <td>4</td>\n",
              "      <td>3</td>\n",
              "      <td>1</td>\n",
              "    </tr>\n",
              "    <tr>\n",
              "      <th>1</th>\n",
              "      <td>89.42</td>\n",
              "      <td>95.84</td>\n",
              "      <td>20.2</td>\n",
              "      <td>31.4</td>\n",
              "      <td>5.5</td>\n",
              "      <td>4.9</td>\n",
              "      <td>63.4</td>\n",
              "      <td>64.8</td>\n",
              "      <td>13.34</td>\n",
              "      <td>4.68</td>\n",
              "      <td>7.06</td>\n",
              "      <td>25.15</td>\n",
              "      <td>2.23</td>\n",
              "      <td>41.87</td>\n",
              "      <td>178.73</td>\n",
              "      <td>64.66</td>\n",
              "      <td>89.42</td>\n",
              "      <td>14.74</td>\n",
              "      <td>13.47</td>\n",
              "      <td>79.91</td>\n",
              "      <td>57.66</td>\n",
              "      <td>94.81</td>\n",
              "      <td>0.78</td>\n",
              "      <td>107345.0</td>\n",
              "      <td>5840.0</td>\n",
              "      <td>99.0</td>\n",
              "      <td>Região Norte</td>\n",
              "      <td>-63.0330</td>\n",
              "      <td>-9.9061</td>\n",
              "      <td>0.000922</td>\n",
              "      <td>0.054404</td>\n",
              "      <td>4</td>\n",
              "      <td>4</td>\n",
              "      <td>0</td>\n",
              "    </tr>\n",
              "    <tr>\n",
              "      <th>2</th>\n",
              "      <td>100.00</td>\n",
              "      <td>100.00</td>\n",
              "      <td>11.8</td>\n",
              "      <td>27.8</td>\n",
              "      <td>6.1</td>\n",
              "      <td>5.1</td>\n",
              "      <td>73.5</td>\n",
              "      <td>60.7</td>\n",
              "      <td>0.00</td>\n",
              "      <td>4.66</td>\n",
              "      <td>3.31</td>\n",
              "      <td>47.04</td>\n",
              "      <td>7.47</td>\n",
              "      <td>36.76</td>\n",
              "      <td>103.04</td>\n",
              "      <td>64.37</td>\n",
              "      <td>40.09</td>\n",
              "      <td>40.23</td>\n",
              "      <td>17.92</td>\n",
              "      <td>75.32</td>\n",
              "      <td>47.87</td>\n",
              "      <td>85.80</td>\n",
              "      <td>0.06</td>\n",
              "      <td>6224.0</td>\n",
              "      <td>137.0</td>\n",
              "      <td>5.0</td>\n",
              "      <td>Região Norte</td>\n",
              "      <td>-60.5446</td>\n",
              "      <td>-13.4951</td>\n",
              "      <td>0.000803</td>\n",
              "      <td>0.022012</td>\n",
              "      <td>3</td>\n",
              "      <td>4</td>\n",
              "      <td>1</td>\n",
              "    </tr>\n",
              "    <tr>\n",
              "      <th>3</th>\n",
              "      <td>82.46</td>\n",
              "      <td>80.47</td>\n",
              "      <td>14.0</td>\n",
              "      <td>28.8</td>\n",
              "      <td>6.3</td>\n",
              "      <td>5.1</td>\n",
              "      <td>60.8</td>\n",
              "      <td>54.2</td>\n",
              "      <td>9.64</td>\n",
              "      <td>5.66</td>\n",
              "      <td>9.07</td>\n",
              "      <td>23.99</td>\n",
              "      <td>2.05</td>\n",
              "      <td>29.62</td>\n",
              "      <td>156.91</td>\n",
              "      <td>26.36</td>\n",
              "      <td>56.03</td>\n",
              "      <td>22.47</td>\n",
              "      <td>20.70</td>\n",
              "      <td>76.88</td>\n",
              "      <td>47.86</td>\n",
              "      <td>100.00</td>\n",
              "      <td>0.18</td>\n",
              "      <td>88507.0</td>\n",
              "      <td>2534.0</td>\n",
              "      <td>35.0</td>\n",
              "      <td>Região Norte</td>\n",
              "      <td>-61.4566</td>\n",
              "      <td>-11.4347</td>\n",
              "      <td>0.000395</td>\n",
              "      <td>0.028631</td>\n",
              "      <td>4</td>\n",
              "      <td>3</td>\n",
              "      <td>1</td>\n",
              "    </tr>\n",
              "    <tr>\n",
              "      <th>4</th>\n",
              "      <td>96.31</td>\n",
              "      <td>97.47</td>\n",
              "      <td>15.5</td>\n",
              "      <td>26.9</td>\n",
              "      <td>6.4</td>\n",
              "      <td>5.3</td>\n",
              "      <td>65.8</td>\n",
              "      <td>39.2</td>\n",
              "      <td>3.61</td>\n",
              "      <td>4.52</td>\n",
              "      <td>3.81</td>\n",
              "      <td>37.16</td>\n",
              "      <td>6.46</td>\n",
              "      <td>44.39</td>\n",
              "      <td>172.70</td>\n",
              "      <td>68.13</td>\n",
              "      <td>91.35</td>\n",
              "      <td>11.01</td>\n",
              "      <td>10.22</td>\n",
              "      <td>68.43</td>\n",
              "      <td>46.38</td>\n",
              "      <td>64.95</td>\n",
              "      <td>0.49</td>\n",
              "      <td>17934.0</td>\n",
              "      <td>276.0</td>\n",
              "      <td>6.0</td>\n",
              "      <td>Região Norte</td>\n",
              "      <td>-60.8173</td>\n",
              "      <td>-13.1874</td>\n",
              "      <td>0.000335</td>\n",
              "      <td>0.015390</td>\n",
              "      <td>2</td>\n",
              "      <td>3</td>\n",
              "      <td>1</td>\n",
              "    </tr>\n",
              "  </tbody>\n",
              "</table>\n",
              "</div>"
            ],
            "text/plain": [
              "   PMATPUB_EF  PMATPUB_EM  DIST_EF_PUB  ...  i_t  l_t  delta_il\n",
              "0      100.00      100.00         19.9  ...    4    3         1\n",
              "1       89.42       95.84         20.2  ...    4    4         0\n",
              "2      100.00      100.00         11.8  ...    3    4         1\n",
              "3       82.46       80.47         14.0  ...    4    3         1\n",
              "4       96.31       97.47         15.5  ...    2    3         1\n",
              "\n",
              "[5 rows x 34 columns]"
            ]
          },
          "metadata": {
            "tags": []
          },
          "execution_count": 141
        }
      ]
    },
    {
      "cell_type": "code",
      "metadata": {
        "id": "lERD11tFxVij"
      },
      "source": [
        "### Definindo o Y Categorizado a partir de obitosAcumulado e casosAcumulado,\n",
        "###    pela tamanho da populacao, segundo critério explicitado no artigo no \n",
        "###    medium\n",
        "\n",
        "if ('Y' in df.columns): \n",
        "  df.drop(columns=['Y'], inplace=True)\n",
        "df = df.assign(Y=\"\")\n",
        "\n",
        "idy = len(df.columns)-1;\n",
        "\n",
        "for idx in df.index:\n",
        "  delta_il = df.iloc[idx]['delta_il']\n",
        "  i_t = df.iloc[idx]['i_t']\n",
        "  l_t = df.iloc[idx]['l_t']\n",
        "  if (delta_il == 0 or delta_il == 1):\n",
        "    if (i_t < l_t):\n",
        "      df.iloc[idx, idy] = i_t\n",
        "    elif (i_t > l_t):\n",
        "      df.iloc[idx, idy] = l_t\n",
        "    else:\n",
        "      df.iloc[idx, idy] = i_t\n",
        "  elif (delta_il == 2):\n",
        "    if (i_t < l_t):\n",
        "      df.iloc[idx, idy] = i_t+1\n",
        "    elif (i_t > l_t):\n",
        "      df.iloc[idx, idy] = l_t+1\n",
        "    else:\n",
        "      df.iloc[idx, idy] = i_t\n",
        "  elif (delta_il == 3):\n",
        "    if (i_t < l_t):\n",
        "      df.iloc[idx, idy] = i_t+2\n",
        "    elif (i_t > l_t):\n",
        "      df.iloc[idx, idy] = l_t+2\n",
        "    else:\n",
        "      df.iloc[idx, idy] = i_t\n"
      ],
      "execution_count": 125,
      "outputs": []
    },
    {
      "cell_type": "code",
      "metadata": {
        "id": "7kJVThIZ6cxs"
      },
      "source": [
        "df = df.astype({'Y': str})\n",
        "\n",
        "df['Y'].replace(to_replace = '1', value = 'leve', inplace = True)\n",
        "df['Y'].replace(to_replace = '2', value = 'moderado', inplace = True)\n",
        "df['Y'].replace(to_replace = '3', value = 'grave', inplace = True)\n",
        "df['Y'].replace(to_replace = '4', value = 'severo', inplace = True)"
      ],
      "execution_count": 126,
      "outputs": []
    },
    {
      "cell_type": "code",
      "metadata": {
        "colab": {
          "base_uri": "https://localhost:8080/",
          "height": 283
        },
        "id": "U-yz0dp-xh7W",
        "outputId": "fb97b0a8-2e63-4480-8677-f30022cd177a"
      },
      "source": [
        "df['Y'].hist()"
      ],
      "execution_count": 14,
      "outputs": [
        {
          "output_type": "execute_result",
          "data": {
            "text/plain": [
              "<matplotlib.axes._subplots.AxesSubplot at 0x7fe242a9f9b0>"
            ]
          },
          "metadata": {
            "tags": []
          },
          "execution_count": 14
        },
        {
          "output_type": "display_data",
          "data": {
            "image/png": "[encoded data removed]",
            "text/plain": [
              "<Figure size 432x288 with 1 Axes>"
            ]
          },
          "metadata": {
            "tags": [],
            "needs_background": "light"
          }
        }
      ]
    },
    {
      "cell_type": "code",
      "metadata": {
        "id": "jUtU0ag2nuOy"
      },
      "source": [
        "### ^\n",
        "### Há um desbalanceamento. Mas adotaremos o StratifiedKFold para ajudar a \n",
        "###     compensar o desbalanceamento surgido\n"
      ],
      "execution_count": null,
      "outputs": []
    },
    {
      "cell_type": "code",
      "metadata": {
        "id": "KVR31HhugKV4"
      },
      "source": [
        "### Remoção de variáveis que auxiliam a definição do Y\n",
        "### \n",
        "\n",
        "df.drop(columns=['casosAcumulado', 'obitosAcumulado', 'POP_TOT', 'i_t', 'l_t', 'delta_il'], inplace=True)"
      ],
      "execution_count": 127,
      "outputs": []
    },
    {
      "cell_type": "code",
      "metadata": {
        "id": "jbhj5GuLjYyi"
      },
      "source": [
        "### Definição das classes para extração de novas features e melhorias na \n",
        "###     categorização dos dados no dataset, além na normalização dos dados\n",
        "###     numéricos\n",
        "\n",
        "#=========================================================\n",
        "#Custom Transformer that extracts columns passed as argument to its constructor \n",
        "class FeatureSelector( BaseEstimator, TransformerMixin ):\n",
        "    #Class Constructor \n",
        "    def __init__( self, feature_names ):\n",
        "        self.feature_names = feature_names \n",
        "    \n",
        "    #Return self nothing else to do here    \n",
        "    def fit( self, X, y = None ):\n",
        "        return self \n",
        "    \n",
        "    #Method that describes what we need this transformer to do\n",
        "    def transform( self, X, y = None ):\n",
        "        return X[ self.feature_names ]\n",
        "\n",
        "#=========================================================\n",
        "# Handling categorical features \n",
        "class CategoricalTransformer( BaseEstimator, TransformerMixin ):\n",
        "  # Class constructor method that takes one boolean as its argument\n",
        "  def __init__(self, new_features=True):\n",
        "    self.new_features = new_features\n",
        "    self.colnames = None\n",
        "\n",
        "  #Return self nothing else to do here    \n",
        "  def fit( self, X, y = None ):\n",
        "    return self \n",
        "\n",
        "  def get_feature_names(self):\n",
        "        return self.colnames.tolist()\n",
        "\n",
        "  # Transformer method we wrote for this transformer \n",
        "  def transform(self, X , y = None ):\n",
        "    df = X.copy()\n",
        "    \n",
        "    # customize feature?\n",
        "    # how can I identify this one? EDA!!!!\n",
        "    # if self.new_features: \n",
        "\n",
        "      # Desnecessário, atividade realizada em notebook anterior\n",
        "\n",
        "    # update column names\n",
        "    self.colnames = df.columns      \n",
        "  \n",
        "    return df\n",
        "\n",
        "#=========================================================\n",
        "# transform numerical features\n",
        "class NumericalTransformer( BaseEstimator, TransformerMixin ):\n",
        "  # Class constructor method that takes a model parameter as its argument\n",
        "  # model 0: minmax\n",
        "  # model 1: standard\n",
        "  # model 2: without scaler\n",
        "  def __init__(self, model = 0):\n",
        "    self.model = model\n",
        "    self.colnames = None\n",
        "\n",
        "  #Return self nothing else to do here    \n",
        "  def fit( self, X, y = None ):\n",
        "    return self\n",
        "\n",
        "  # return columns names after transformation\n",
        "  def get_feature_names(self):\n",
        "        return self.colnames \n",
        "        \n",
        "  #Transformer method we wrote for this transformer \n",
        "  def transform(self, X , y = None ):\n",
        "    df = X.copy()\n",
        "    \n",
        "    # update columns name\n",
        "    self.colnames = df.columns.tolist()\n",
        "    \n",
        "    # minmax\n",
        "    if self.model == 0: \n",
        "      scaler = MinMaxScaler()\n",
        "      # transform data\n",
        "      df = scaler.fit_transform(df)\n",
        "    elif self.model == 1:\n",
        "      scaler = StandardScaler()\n",
        "      # transform data\n",
        "      df = scaler.fit_transform(df)\n",
        "    else:\n",
        "      df = df.values\n",
        "\n",
        "    return df\n"
      ],
      "execution_count": 128,
      "outputs": []
    },
    {
      "cell_type": "code",
      "metadata": {
        "colab": {
          "base_uri": "https://localhost:8080/",
          "height": 343
        },
        "id": "L3Uo-TgCri9s",
        "outputId": "bd557628-90b0-4dff-a617-1c5336ed13fe"
      },
      "source": [
        "### Remoção de Outliners\n",
        "\n",
        "# Verify if columns[float64] has outliers (with data leakage!!!!!!!)\n",
        "x = df.select_dtypes(\"float64\")\n",
        "\n",
        "# identify outlier in the dataset\n",
        "lof = LocalOutlierFactor()\n",
        "outlier = lof.fit_predict(x)\n",
        "mask = outlier != -1\n",
        "\n",
        "print(\"df shape [original]: {}\".format(df.shape))\n",
        "print(\"df shape [outlier removal]: {}\".format(df.loc[mask,:].shape))\n",
        "\n",
        "# municipios with outliner\n",
        "df_w = df.loc[mask,:].copy()\n",
        "df_w.head()"
      ],
      "execution_count": 129,
      "outputs": [
        {
          "output_type": "stream",
          "text": [
            "df shape [original]: (4643, 31)\n",
            "df shape [outlier removal]: (4622, 31)\n"
          ],
          "name": "stdout"
        },
        {
          "output_type": "execute_result",
          "data": {
            "text/html": [
              "<div>\n",
              "<style scoped>\n",
              "    .dataframe tbody tr th:only-of-type {\n",
              "        vertical-align: middle;\n",
              "    }\n",
              "\n",
              "    .dataframe tbody tr th {\n",
              "        vertical-align: top;\n",
              "    }\n",
              "\n",
              "    .dataframe thead th {\n",
              "        text-align: right;\n",
              "    }\n",
              "</style>\n",
              "<table border=\"1\" class=\"dataframe\">\n",
              "  <thead>\n",
              "    <tr style=\"text-align: right;\">\n",
              "      <th></th>\n",
              "      <th>PMATPUB_EF</th>\n",
              "      <th>PMATPUB_EM</th>\n",
              "      <th>DIST_EF_PUB</th>\n",
              "      <th>DIST_EM_PUB</th>\n",
              "      <th>IDEB_AI</th>\n",
              "      <th>IDEB_AF</th>\n",
              "      <th>DOCSUP_EF_PUB</th>\n",
              "      <th>DOCSUP_EM_PUB</th>\n",
              "      <th>TXMOINF</th>\n",
              "      <th>TXBRUTAMORT</th>\n",
              "      <th>TXCOBPLP</th>\n",
              "      <th>PINTERSAP</th>\n",
              "      <th>PINTERDRSAI</th>\n",
              "      <th>REN_TRPCBF_D</th>\n",
              "      <th>REN_TRPCBPC_D</th>\n",
              "      <th>PDEFAGUA</th>\n",
              "      <th>PDEFESGOTO</th>\n",
              "      <th>PDEFLIXO</th>\n",
              "      <th>PDEFSAN</th>\n",
              "      <th>PPOB_POS</th>\n",
              "      <th>PBF</th>\n",
              "      <th>SNIS_PAGUA</th>\n",
              "      <th>PFOCOS</th>\n",
              "      <th>reg_metro</th>\n",
              "      <th>Região</th>\n",
              "      <th>Porte</th>\n",
              "      <th>LON</th>\n",
              "      <th>LAT</th>\n",
              "      <th>letalidade</th>\n",
              "      <th>incidencia</th>\n",
              "      <th>Y</th>\n",
              "    </tr>\n",
              "  </thead>\n",
              "  <tbody>\n",
              "    <tr>\n",
              "      <th>0</th>\n",
              "      <td>100.00</td>\n",
              "      <td>100.00</td>\n",
              "      <td>19.9</td>\n",
              "      <td>25.1</td>\n",
              "      <td>6.2</td>\n",
              "      <td>4.8</td>\n",
              "      <td>58.1</td>\n",
              "      <td>61.7</td>\n",
              "      <td>14.12</td>\n",
              "      <td>5.39</td>\n",
              "      <td>6.01</td>\n",
              "      <td>41.53</td>\n",
              "      <td>4.64</td>\n",
              "      <td>79.30</td>\n",
              "      <td>142.56</td>\n",
              "      <td>80.81</td>\n",
              "      <td>93.09</td>\n",
              "      <td>53.62</td>\n",
              "      <td>50.15</td>\n",
              "      <td>84.71</td>\n",
              "      <td>66.31</td>\n",
              "      <td>73.27</td>\n",
              "      <td>0.52</td>\n",
              "      <td>Interior</td>\n",
              "      <td>Região Norte</td>\n",
              "      <td>Pequeno II</td>\n",
              "      <td>-61.9958</td>\n",
              "      <td>-11.9287</td>\n",
              "      <td>0.000432</td>\n",
              "      <td>0.035499</td>\n",
              "      <td>grave</td>\n",
              "    </tr>\n",
              "    <tr>\n",
              "      <th>1</th>\n",
              "      <td>89.42</td>\n",
              "      <td>95.84</td>\n",
              "      <td>20.2</td>\n",
              "      <td>31.4</td>\n",
              "      <td>5.5</td>\n",
              "      <td>4.9</td>\n",
              "      <td>63.4</td>\n",
              "      <td>64.8</td>\n",
              "      <td>13.34</td>\n",
              "      <td>4.68</td>\n",
              "      <td>7.06</td>\n",
              "      <td>25.15</td>\n",
              "      <td>2.23</td>\n",
              "      <td>41.87</td>\n",
              "      <td>178.73</td>\n",
              "      <td>64.66</td>\n",
              "      <td>89.42</td>\n",
              "      <td>14.74</td>\n",
              "      <td>13.47</td>\n",
              "      <td>79.91</td>\n",
              "      <td>57.66</td>\n",
              "      <td>94.81</td>\n",
              "      <td>0.78</td>\n",
              "      <td>Interior</td>\n",
              "      <td>Região Norte</td>\n",
              "      <td>Médio</td>\n",
              "      <td>-63.0330</td>\n",
              "      <td>-9.9061</td>\n",
              "      <td>0.000922</td>\n",
              "      <td>0.054404</td>\n",
              "      <td>severo</td>\n",
              "    </tr>\n",
              "    <tr>\n",
              "      <th>2</th>\n",
              "      <td>100.00</td>\n",
              "      <td>100.00</td>\n",
              "      <td>11.8</td>\n",
              "      <td>27.8</td>\n",
              "      <td>6.1</td>\n",
              "      <td>5.1</td>\n",
              "      <td>73.5</td>\n",
              "      <td>60.7</td>\n",
              "      <td>0.00</td>\n",
              "      <td>4.66</td>\n",
              "      <td>3.31</td>\n",
              "      <td>47.04</td>\n",
              "      <td>7.47</td>\n",
              "      <td>36.76</td>\n",
              "      <td>103.04</td>\n",
              "      <td>64.37</td>\n",
              "      <td>40.09</td>\n",
              "      <td>40.23</td>\n",
              "      <td>17.92</td>\n",
              "      <td>75.32</td>\n",
              "      <td>47.87</td>\n",
              "      <td>85.80</td>\n",
              "      <td>0.06</td>\n",
              "      <td>Interior</td>\n",
              "      <td>Região Norte</td>\n",
              "      <td>Pequeno I</td>\n",
              "      <td>-60.5446</td>\n",
              "      <td>-13.4951</td>\n",
              "      <td>0.000803</td>\n",
              "      <td>0.022012</td>\n",
              "      <td>grave</td>\n",
              "    </tr>\n",
              "    <tr>\n",
              "      <th>3</th>\n",
              "      <td>82.46</td>\n",
              "      <td>80.47</td>\n",
              "      <td>14.0</td>\n",
              "      <td>28.8</td>\n",
              "      <td>6.3</td>\n",
              "      <td>5.1</td>\n",
              "      <td>60.8</td>\n",
              "      <td>54.2</td>\n",
              "      <td>9.64</td>\n",
              "      <td>5.66</td>\n",
              "      <td>9.07</td>\n",
              "      <td>23.99</td>\n",
              "      <td>2.05</td>\n",
              "      <td>29.62</td>\n",
              "      <td>156.91</td>\n",
              "      <td>26.36</td>\n",
              "      <td>56.03</td>\n",
              "      <td>22.47</td>\n",
              "      <td>20.70</td>\n",
              "      <td>76.88</td>\n",
              "      <td>47.86</td>\n",
              "      <td>100.00</td>\n",
              "      <td>0.18</td>\n",
              "      <td>Interior</td>\n",
              "      <td>Região Norte</td>\n",
              "      <td>Médio</td>\n",
              "      <td>-61.4566</td>\n",
              "      <td>-11.4347</td>\n",
              "      <td>0.000395</td>\n",
              "      <td>0.028631</td>\n",
              "      <td>grave</td>\n",
              "    </tr>\n",
              "    <tr>\n",
              "      <th>4</th>\n",
              "      <td>96.31</td>\n",
              "      <td>97.47</td>\n",
              "      <td>15.5</td>\n",
              "      <td>26.9</td>\n",
              "      <td>6.4</td>\n",
              "      <td>5.3</td>\n",
              "      <td>65.8</td>\n",
              "      <td>39.2</td>\n",
              "      <td>3.61</td>\n",
              "      <td>4.52</td>\n",
              "      <td>3.81</td>\n",
              "      <td>37.16</td>\n",
              "      <td>6.46</td>\n",
              "      <td>44.39</td>\n",
              "      <td>172.70</td>\n",
              "      <td>68.13</td>\n",
              "      <td>91.35</td>\n",
              "      <td>11.01</td>\n",
              "      <td>10.22</td>\n",
              "      <td>68.43</td>\n",
              "      <td>46.38</td>\n",
              "      <td>64.95</td>\n",
              "      <td>0.49</td>\n",
              "      <td>Interior</td>\n",
              "      <td>Região Norte</td>\n",
              "      <td>Pequeno I</td>\n",
              "      <td>-60.8173</td>\n",
              "      <td>-13.1874</td>\n",
              "      <td>0.000335</td>\n",
              "      <td>0.015390</td>\n",
              "      <td>moderado</td>\n",
              "    </tr>\n",
              "  </tbody>\n",
              "</table>\n",
              "</div>"
            ],
            "text/plain": [
              "   PMATPUB_EF  PMATPUB_EM  DIST_EF_PUB  ...  letalidade  incidencia         Y\n",
              "0      100.00      100.00         19.9  ...    0.000432    0.035499     grave\n",
              "1       89.42       95.84         20.2  ...    0.000922    0.054404    severo\n",
              "2      100.00      100.00         11.8  ...    0.000803    0.022012     grave\n",
              "3       82.46       80.47         14.0  ...    0.000395    0.028631     grave\n",
              "4       96.31       97.47         15.5  ...    0.000335    0.015390  moderado\n",
              "\n",
              "[5 rows x 31 columns]"
            ]
          },
          "metadata": {
            "tags": []
          },
          "execution_count": 129
        }
      ]
    },
    {
      "cell_type": "code",
      "metadata": {
        "colab": {
          "base_uri": "https://localhost:8080/",
          "height": 844
        },
        "id": "cwSddZaaJfh7",
        "outputId": "6bfa4394-938e-4d8a-b10b-90a867cc7658"
      },
      "source": [
        "### Matriz de Correlação das Variáveis\n",
        "### \n",
        "\n",
        "f = plt.figure(figsize=(19, 15))\n",
        "plt.matshow(df_w.corr(), fignum=f.number)\n",
        "plt.xticks(range(df_w.shape[1]), df_w.columns, fontsize=14, rotation=45)\n",
        "plt.yticks(range(df_w.shape[1]), df_w.columns, fontsize=14)\n",
        "cb = plt.colorbar()\n",
        "cb.ax.tick_params(labelsize=14)\n",
        "plt.title('', fontsize=16);"
      ],
      "execution_count": 116,
      "outputs": [
        {
          "output_type": "display_data",
          "data": {
            "image/png": "[encoded data removed]",
            "text/plain": [
              "<Figure size 1368x1080 with 2 Axes>"
            ]
          },
          "metadata": {
            "tags": [],
            "needs_background": "light"
          }
        }
      ]
    },
    {
      "cell_type": "markdown",
      "metadata": {
        "id": "1fFtWtTA23_8"
      },
      "source": [
        "#3. Preparando os **Classificadores** (via pipeline)"
      ]
    },
    {
      "cell_type": "code",
      "metadata": {
        "id": "Xf_JMGiJyn-D"
      },
      "source": [
        "### split-out train/validation and test dataset\n",
        "\n",
        "X_train, X_test, y_train, y_test = train_test_split(df_w.drop(labels=\"Y\",axis=1),\n",
        "                                                    df_w[\"Y\"],\n",
        "                                                    test_size=0.20,\n",
        "                                                    random_state=41,\n",
        "                                                    shuffle=True,\n",
        "                                                    stratify=df_w[\"Y\"])"
      ],
      "execution_count": 130,
      "outputs": []
    },
    {
      "cell_type": "code",
      "metadata": {
        "colab": {
          "base_uri": "https://localhost:8080/"
        },
        "id": "nEYRMyRh3hvH",
        "outputId": "c9a1e1e7-8842-461f-a849-9d12bb37e504"
      },
      "source": [
        "X_train.columns"
      ],
      "execution_count": 19,
      "outputs": [
        {
          "output_type": "execute_result",
          "data": {
            "text/plain": [
              "Index(['IBGE', 'PMATPUB_EF', 'PMATPUB_EM', 'DIST_EF_PUB', 'DIST_EM_PUB',\n",
              "       'IDEB_AI', 'IDEB_AF', 'DOCSUP_EF_PUB', 'DOCSUP_EM_PUB', 'TXMOINF',\n",
              "       'TXBRUTAMORT', 'TXCOBPLP', 'PINTERSAP', 'PINTERDRSAI', 'REN_TRPCBF_D',\n",
              "       'REN_TRPCBPC_D', 'PDEFAGUA', 'PDEFESGOTO', 'PDEFLIXO', 'PDEFSAN',\n",
              "       'PPOB_POS', 'PBF', 'SNIS_PAGUA', 'PFOCOS', 'estado', 'municipio',\n",
              "       'reg_metro', 'Região', 'Porte', 'Capital', 'LON', 'LAT', 'ANNUAL',\n",
              "       'letalidade', 'incidencia'],\n",
              "      dtype='object')"
            ]
          },
          "metadata": {
            "tags": []
          },
          "execution_count": 19
        }
      ]
    },
    {
      "cell_type": "code",
      "metadata": {
        "id": "EIMyYl675OiG"
      },
      "source": [
        "### Preparação do Pipeline\n",
        "\n",
        "# Categrical features to pass down the categorical pipeline \n",
        "categorical_features = X_train.select_dtypes(\"object\").columns.to_list()\n",
        "\n",
        "# Numerical features to pass down the numerical pipeline \n",
        "numerical_features = X_train.select_dtypes(\"float64\").columns.to_list()\n",
        "\n",
        "# Defining the steps in the categorical pipeline \n",
        "categorical_pipeline = Pipeline(steps = [('cat_selector', FeatureSelector(categorical_features)),\n",
        "                                         ('cat_transformer', CategoricalTransformer()),\n",
        "                                         ('cat_encoder','passthrough')\n",
        "                                         #('cat_encoder',OneHotEncoder(sparse=False,drop=\"first\"))\n",
        "                                         ]\n",
        "                                )\n",
        "\n",
        "# Defining the steps in the numerical pipeline     \n",
        "numerical_pipeline = Pipeline(steps = [('num_selector', FeatureSelector(numerical_features)),\n",
        "                                       ('num_transformer', NumericalTransformer()) \n",
        "                                       ]\n",
        "                              )\n",
        "\n",
        "# Combining numerical and categorical piepline into one full big pipeline horizontally \n",
        "# using FeatureUnion\n",
        "full_pipeline_preprocessing = FeatureUnion(transformer_list = [('cat_pipeline', categorical_pipeline),\n",
        "                                                               ('num_pipeline', numerical_pipeline)\n",
        "                                                               ]\n",
        "                                           )"
      ],
      "execution_count": 131,
      "outputs": []
    },
    {
      "cell_type": "code",
      "metadata": {
        "id": "-QVGgsMEz6oJ",
        "colab": {
          "base_uri": "https://localhost:8080/"
        },
        "outputId": "64988740-9a01-45b8-8134-43ea4cfb7ddb"
      },
      "source": [
        "### Configuração e execução do Pipeline\n",
        "\n",
        "seed = 15\n",
        "num_folds = 10\n",
        "# scoring = {'AUC': 'roc_auc', 'Accuracy': make_scorer(accuracy_score)}\n",
        "scoring = {'Accuracy': make_scorer(accuracy_score)}\n",
        "\n",
        "# The full pipeline \n",
        "pipe = Pipeline(steps = [('full_pipeline', full_pipeline_preprocessing),\n",
        "                         (\"fs\", SelectKBest()),\n",
        "                         (\"classifier\", DecisionTreeClassifier())])\n",
        "\n",
        "# create a dictionary with the hyperparameters\n",
        "search_space = [\n",
        "                {\"classifier\": [DecisionTreeClassifier()],\n",
        "                 \"classifier__criterion\": [\"gini\", \"entropy\"],\n",
        "                 \"classifier__splitter\": [\"best\", \"random\"],\n",
        "                 \"fs__k\": [11, 13, 17, 19, 23],\n",
        "                 \"fs__score_func\": [mutual_info_classif],  #[f_classif, mutual_info_classif, chi2],\n",
        "                 \"full_pipeline__cat_pipeline__cat_encoder\": [OneHotEncoder(sparse=False,drop=\"first\")], #[OneHotEncoder(sparse=False,drop=\"first\"), OrdinalEncoder()],\n",
        "                 \"full_pipeline__cat_pipeline__cat_transformer__new_features\": [False],\n",
        "                 \"full_pipeline__num_pipeline__num_transformer__model\": [1,0]}\n",
        "                ]\n",
        "\n",
        "# create grid search\n",
        "grid = GridSearchCV(estimator=pipe, \n",
        "                    param_grid=search_space,\n",
        "                    cv=StratifiedKFold(n_splits=num_folds,random_state=seed,shuffle=True),\n",
        "                    scoring=scoring,\n",
        "                    return_train_score=True,\n",
        "                    n_jobs=-1,\n",
        "                    refit=\"Accuracy\",\n",
        "                    verbose = 1)\n",
        "\n",
        "### fit grid search\n",
        "all_models = grid.fit(X_train, y_train)"
      ],
      "execution_count": 132,
      "outputs": [
        {
          "output_type": "stream",
          "text": [
            "Fitting 10 folds for each of 40 candidates, totalling 400 fits\n"
          ],
          "name": "stdout"
        },
        {
          "output_type": "stream",
          "text": [
            "[Parallel(n_jobs=-1)]: Using backend LokyBackend with 2 concurrent workers.\n",
            "[Parallel(n_jobs=-1)]: Done  46 tasks      | elapsed:   41.1s\n",
            "[Parallel(n_jobs=-1)]: Done 196 tasks      | elapsed:  2.8min\n",
            "[Parallel(n_jobs=-1)]: Done 400 out of 400 | elapsed:  5.6min finished\n"
          ],
          "name": "stderr"
        }
      ]
    },
    {
      "cell_type": "code",
      "metadata": {
        "colab": {
          "base_uri": "https://localhost:8080/",
          "height": 173
        },
        "id": "PRp7B4_35ZgZ",
        "outputId": "69af972d-15cc-44fc-ef04-100c473a930d"
      },
      "source": [
        "### Relatório com os resultados do pipe\n",
        "###\n",
        "\n",
        "df_r = pd.DataFrame(all_models.cv_results_)\n",
        "df_r[(df_r['rank_test_Accuracy'] < 3)][['param_classifier', 'param_fs__k', 'mean_fit_time', 'rank_test_Accuracy', 'mean_test_Accuracy']]\n"
      ],
      "execution_count": 134,
      "outputs": [
        {
          "output_type": "execute_result",
          "data": {
            "text/html": [
              "<div>\n",
              "<style scoped>\n",
              "    .dataframe tbody tr th:only-of-type {\n",
              "        vertical-align: middle;\n",
              "    }\n",
              "\n",
              "    .dataframe tbody tr th {\n",
              "        vertical-align: top;\n",
              "    }\n",
              "\n",
              "    .dataframe thead th {\n",
              "        text-align: right;\n",
              "    }\n",
              "</style>\n",
              "<table border=\"1\" class=\"dataframe\">\n",
              "  <thead>\n",
              "    <tr style=\"text-align: right;\">\n",
              "      <th></th>\n",
              "      <th>param_classifier</th>\n",
              "      <th>param_fs__k</th>\n",
              "      <th>mean_fit_time</th>\n",
              "      <th>rank_test_Accuracy</th>\n",
              "      <th>mean_test_Accuracy</th>\n",
              "    </tr>\n",
              "  </thead>\n",
              "  <tbody>\n",
              "    <tr>\n",
              "      <th>0</th>\n",
              "      <td>DecisionTreeClassifier()</td>\n",
              "      <td>11</td>\n",
              "      <td>1.671523</td>\n",
              "      <td>1</td>\n",
              "      <td>0.976473</td>\n",
              "    </tr>\n",
              "    <tr>\n",
              "      <th>4</th>\n",
              "      <td>DecisionTreeClassifier()</td>\n",
              "      <td>17</td>\n",
              "      <td>1.680472</td>\n",
              "      <td>1</td>\n",
              "      <td>0.976473</td>\n",
              "    </tr>\n",
              "    <tr>\n",
              "      <th>6</th>\n",
              "      <td>DecisionTreeClassifier()</td>\n",
              "      <td>19</td>\n",
              "      <td>1.596389</td>\n",
              "      <td>1</td>\n",
              "      <td>0.976473</td>\n",
              "    </tr>\n",
              "    <tr>\n",
              "      <th>8</th>\n",
              "      <td>DecisionTreeClassifier()</td>\n",
              "      <td>23</td>\n",
              "      <td>1.657102</td>\n",
              "      <td>1</td>\n",
              "      <td>0.976473</td>\n",
              "    </tr>\n",
              "  </tbody>\n",
              "</table>\n",
              "</div>"
            ],
            "text/plain": [
              "           param_classifier param_fs__k  ...  rank_test_Accuracy  mean_test_Accuracy\n",
              "0  DecisionTreeClassifier()          11  ...                   1            0.976473\n",
              "4  DecisionTreeClassifier()          17  ...                   1            0.976473\n",
              "6  DecisionTreeClassifier()          19  ...                   1            0.976473\n",
              "8  DecisionTreeClassifier()          23  ...                   1            0.976473\n",
              "\n",
              "[4 rows x 5 columns]"
            ]
          },
          "metadata": {
            "tags": []
          },
          "execution_count": 134
        }
      ]
    },
    {
      "cell_type": "code",
      "metadata": {
        "id": "PddbbAqC5nFR",
        "colab": {
          "base_uri": "https://localhost:8080/",
          "height": 255
        },
        "outputId": "1166e196-01aa-4d66-d662-d5c4e00fb2c0"
      },
      "source": [
        "all_models"
      ],
      "execution_count": 135,
      "outputs": [
        {
          "output_type": "execute_result",
          "data": {
            "text/html": [
              "<style>div.sk-top-container {color: black;background-color: white;}div.sk-toggleable {background-color: white;}label.sk-toggleable__label {cursor: pointer;display: block;width: 100%;margin-bottom: 0;padding: 0.2em 0.3em;box-sizing: border-box;text-align: center;}div.sk-toggleable__content {max-height: 0;max-width: 0;overflow: hidden;text-align: left;background-color: #f0f8ff;}div.sk-toggleable__content pre {margin: 0.2em;color: black;border-radius: 0.25em;background-color: #f0f8ff;}input.sk-toggleable__control:checked~div.sk-toggleable__content {max-height: 200px;max-width: 100%;overflow: auto;}div.sk-estimator input.sk-toggleable__control:checked~label.sk-toggleable__label {background-color: #d4ebff;}div.sk-label input.sk-toggleable__control:checked~label.sk-toggleable__label {background-color: #d4ebff;}input.sk-hidden--visually {border: 0;clip: rect(1px 1px 1px 1px);clip: rect(1px, 1px, 1px, 1px);height: 1px;margin: -1px;overflow: hidden;padding: 0;position: absolute;width: 1px;}div.sk-estimator {font-family: monospace;background-color: #f0f8ff;margin: 0.25em 0.25em;border: 1px dotted black;border-radius: 0.25em;box-sizing: border-box;}div.sk-estimator:hover {background-color: #d4ebff;}div.sk-parallel-item::after {content: \"\";width: 100%;border-bottom: 1px solid gray;flex-grow: 1;}div.sk-label:hover label.sk-toggleable__label {background-color: #d4ebff;}div.sk-serial::before {content: \"\";position: absolute;border-left: 1px solid gray;box-sizing: border-box;top: 2em;bottom: 0;left: 50%;}div.sk-serial {display: flex;flex-direction: column;align-items: center;background-color: white;}div.sk-item {z-index: 1;}div.sk-parallel {display: flex;align-items: stretch;justify-content: center;background-color: white;}div.sk-parallel-item {display: flex;flex-direction: column;position: relative;background-color: white;}div.sk-parallel-item:first-child::after {align-self: flex-end;width: 50%;}div.sk-parallel-item:last-child::after {align-self: flex-start;width: 50%;}div.sk-parallel-item:only-child::after {width: 0;}div.sk-dashed-wrapped {border: 1px dashed gray;margin: 0.2em;box-sizing: border-box;padding-bottom: 0.1em;background-color: white;position: relative;}div.sk-label label {font-family: monospace;font-weight: bold;background-color: white;display: inline-block;line-height: 1.2em;}div.sk-label-container {position: relative;z-index: 2;text-align: center;}div.sk-container {display: inline-block;position: relative;}</style><div class=\"sk-top-container\"><div class=\"sk-container\"><div class=\"sk-item sk-dashed-wrapped\"><div class=\"sk-label-container\"><div class=\"sk-label sk-toggleable\"><input class=\"sk-toggleable__control sk-hidden--visually\" id=\"1cd706dc-0423-445e-b2ee-996e28f8d5f1\" type=\"checkbox\" ><label class=\"sk-toggleable__label\" for=\"1cd706dc-0423-445e-b2ee-996e28f8d5f1\">GridSearchCV</label><div class=\"sk-toggleable__content\"><pre>GridSearchCV(cv=StratifiedKFold(n_splits=10, random_state=15, shuffle=True),\n",
              "             estimator=Pipeline(steps=[('full_pipeline',\n",
              "                                        FeatureUnion(transformer_list=[('cat_pipeline',\n",
              "                                                                        Pipeline(steps=[('cat_selector',\n",
              "                                                                                         FeatureSelector(feature_names=['reg_metro',\n",
              "                                                                                                                        'Região',\n",
              "                                                                                                                        'Porte'])),\n",
              "                                                                                        ('cat_transformer',\n",
              "                                                                                         CategoricalTransformer()),\n",
              "                                                                                        ('cat_encoder',\n",
              "                                                                                         'passthrough')])),\n",
              "                                                                       ('num_pipelin...\n",
              "                          'fs__score_func': [<function mutual_info_classif at 0x7fe244772268>],\n",
              "                          'full_pipeline__cat_pipeline__cat_encoder': [OneHotEncoder(drop='first',\n",
              "                                                                                     sparse=False)],\n",
              "                          'full_pipeline__cat_pipeline__cat_transformer__new_features': [False],\n",
              "                          'full_pipeline__num_pipeline__num_transformer__model': [1,\n",
              "                                                                                  0]}],\n",
              "             refit='Accuracy', return_train_score=True,\n",
              "             scoring={'Accuracy': make_scorer(accuracy_score)}, verbose=1)</pre></div></div></div><div class=\"sk-parallel\"><div class=\"sk-parallel-item\"><div class=\"sk-item\"><div class=\"sk-serial\"><div class=\"sk-item\"><div class=\"sk-serial\"><div class=\"sk-item sk-dashed-wrapped\"><div class=\"sk-label-container\"><div class=\"sk-label sk-toggleable\"><input class=\"sk-toggleable__control sk-hidden--visually\" id=\"ddf61d59-392e-4ec3-8cce-42a12f8264d3\" type=\"checkbox\" ><label class=\"sk-toggleable__label\" for=\"ddf61d59-392e-4ec3-8cce-42a12f8264d3\">full_pipeline: FeatureUnion</label><div class=\"sk-toggleable__content\"><pre>FeatureUnion(transformer_list=[('cat_pipeline',\n",
              "                                Pipeline(steps=[('cat_selector',\n",
              "                                                 FeatureSelector(feature_names=['reg_metro',\n",
              "                                                                                'Região',\n",
              "                                                                                'Porte'])),\n",
              "                                                ('cat_transformer',\n",
              "                                                 CategoricalTransformer()),\n",
              "                                                ('cat_encoder',\n",
              "                                                 'passthrough')])),\n",
              "                               ('num_pipeline',\n",
              "                                Pipeline(steps=[('num_selector',\n",
              "                                                 FeatureSelector(feature_names=['PMATPUB_EF',\n",
              "                                                                                'PMATPUB_EM',\n",
              "                                                                                'DIST_EF_PUB',\n",
              "                                                                                'DIST_EM_PUB',\n",
              "                                                                                'IDEB_AI',\n",
              "                                                                                'IDEB_AF',\n",
              "                                                                                'DOCSUP_EF_PUB',\n",
              "                                                                                'DOCSUP_EM_PUB',\n",
              "                                                                                'TXMOINF',\n",
              "                                                                                'TXBRUTAMORT',\n",
              "                                                                                'TXCOBPLP',\n",
              "                                                                                'PINTERSAP',\n",
              "                                                                                'PINTERDRSAI',\n",
              "                                                                                'REN_TRPCBF_D',\n",
              "                                                                                'REN_TRPCBPC_D',\n",
              "                                                                                'PDEFAGUA',\n",
              "                                                                                'PDEFESGOTO',\n",
              "                                                                                'PDEFLIXO',\n",
              "                                                                                'PDEFSAN',\n",
              "                                                                                'PPOB_POS',\n",
              "                                                                                'PBF',\n",
              "                                                                                'SNIS_PAGUA',\n",
              "                                                                                'PFOCOS',\n",
              "                                                                                'LON',\n",
              "                                                                                'LAT',\n",
              "                                                                                'letalidade',\n",
              "                                                                                'incidencia'])),\n",
              "                                                ('num_transformer',\n",
              "                                                 NumericalTransformer())]))])</pre></div></div></div><div class=\"sk-parallel\"><div class=\"sk-parallel-item\"><div class=\"sk-item\"><div class=\"sk-label-container\"><div class=\"sk-label sk-toggleable\"><label>cat_pipeline</label></div></div><div class=\"sk-serial\"><div class=\"sk-item\"><div class=\"sk-serial\"><div class=\"sk-item\"><div class=\"sk-estimator sk-toggleable\"><input class=\"sk-toggleable__control sk-hidden--visually\" id=\"180e402a-1564-4409-87d9-26563e104290\" type=\"checkbox\" ><label class=\"sk-toggleable__label\" for=\"180e402a-1564-4409-87d9-26563e104290\">FeatureSelector</label><div class=\"sk-toggleable__content\"><pre>FeatureSelector(feature_names=['reg_metro', 'Região', 'Porte'])</pre></div></div></div><div class=\"sk-item\"><div class=\"sk-estimator sk-toggleable\"><input class=\"sk-toggleable__control sk-hidden--visually\" id=\"a597c770-746e-44c3-8a40-ad1841d92b8d\" type=\"checkbox\" ><label class=\"sk-toggleable__label\" for=\"a597c770-746e-44c3-8a40-ad1841d92b8d\">CategoricalTransformer</label><div class=\"sk-toggleable__content\"><pre>CategoricalTransformer()</pre></div></div></div><div class=\"sk-item\"><div class=\"sk-estimator sk-toggleable\"><input class=\"sk-toggleable__control sk-hidden--visually\" id=\"d658be25-1760-4a65-91b1-1ec78a8af94f\" type=\"checkbox\" ><label class=\"sk-toggleable__label\" for=\"d658be25-1760-4a65-91b1-1ec78a8af94f\">passthrough</label><div class=\"sk-toggleable__content\"><pre>passthrough</pre></div></div></div></div></div></div></div></div><div class=\"sk-parallel-item\"><div class=\"sk-item\"><div class=\"sk-label-container\"><div class=\"sk-label sk-toggleable\"><label>num_pipeline</label></div></div><div class=\"sk-serial\"><div class=\"sk-item\"><div class=\"sk-serial\"><div class=\"sk-item\"><div class=\"sk-estimator sk-toggleable\"><input class=\"sk-toggleable__control sk-hidden--visually\" id=\"3aeec789-99ab-4908-a043-d5fee6aa5426\" type=\"checkbox\" ><label class=\"sk-toggleable__label\" for=\"3aeec789-99ab-4908-a043-d5fee6aa5426\">FeatureSelector</label><div class=\"sk-toggleable__content\"><pre>FeatureSelector(feature_names=['PMATPUB_EF', 'PMATPUB_EM', 'DIST_EF_PUB',\n",
              "                               'DIST_EM_PUB', 'IDEB_AI', 'IDEB_AF',\n",
              "                               'DOCSUP_EF_PUB', 'DOCSUP_EM_PUB', 'TXMOINF',\n",
              "                               'TXBRUTAMORT', 'TXCOBPLP', 'PINTERSAP',\n",
              "                               'PINTERDRSAI', 'REN_TRPCBF_D', 'REN_TRPCBPC_D',\n",
              "                               'PDEFAGUA', 'PDEFESGOTO', 'PDEFLIXO', 'PDEFSAN',\n",
              "                               'PPOB_POS', 'PBF', 'SNIS_PAGUA', 'PFOCOS', 'LON',\n",
              "                               'LAT', 'letalidade', 'incidencia'])</pre></div></div></div><div class=\"sk-item\"><div class=\"sk-estimator sk-toggleable\"><input class=\"sk-toggleable__control sk-hidden--visually\" id=\"5374a9df-b8d9-466f-85cb-d5486d7c4f0b\" type=\"checkbox\" ><label class=\"sk-toggleable__label\" for=\"5374a9df-b8d9-466f-85cb-d5486d7c4f0b\">NumericalTransformer</label><div class=\"sk-toggleable__content\"><pre>NumericalTransformer()</pre></div></div></div></div></div></div></div></div></div></div><div class=\"sk-item\"><div class=\"sk-estimator sk-toggleable\"><input class=\"sk-toggleable__control sk-hidden--visually\" id=\"0270589b-1a61-415a-b158-a6c5f16cd3f2\" type=\"checkbox\" ><label class=\"sk-toggleable__label\" for=\"0270589b-1a61-415a-b158-a6c5f16cd3f2\">SelectKBest</label><div class=\"sk-toggleable__content\"><pre>SelectKBest()</pre></div></div></div><div class=\"sk-item\"><div class=\"sk-estimator sk-toggleable\"><input class=\"sk-toggleable__control sk-hidden--visually\" id=\"70abc825-2062-4b0b-8baa-b97f22b3b151\" type=\"checkbox\" ><label class=\"sk-toggleable__label\" for=\"70abc825-2062-4b0b-8baa-b97f22b3b151\">RandomForestClassifier</label><div class=\"sk-toggleable__content\"><pre>RandomForestClassifier()</pre></div></div></div></div></div></div></div></div></div></div></div></div>"
            ],
            "text/plain": [
              "GridSearchCV(cv=StratifiedKFold(n_splits=10, random_state=15, shuffle=True),\n",
              "             estimator=Pipeline(steps=[('full_pipeline',\n",
              "                                        FeatureUnion(transformer_list=[('cat_pipeline',\n",
              "                                                                        Pipeline(steps=[('cat_selector',\n",
              "                                                                                         FeatureSelector(feature_names=['reg_metro',\n",
              "                                                                                                                        'Região',\n",
              "                                                                                                                        'Porte'])),\n",
              "                                                                                        ('cat_transformer',\n",
              "                                                                                         CategoricalTransformer()),\n",
              "                                                                                        ('cat_encoder',\n",
              "                                                                                         'passthrough')])),\n",
              "                                                                       ('num_pipelin...\n",
              "                          'fs__score_func': [<function mutual_info_classif at 0x7fe244772268>],\n",
              "                          'full_pipeline__cat_pipeline__cat_encoder': [OneHotEncoder(drop='first',\n",
              "                                                                                     sparse=False)],\n",
              "                          'full_pipeline__cat_pipeline__cat_transformer__new_features': [False],\n",
              "                          'full_pipeline__num_pipeline__num_transformer__model': [1,\n",
              "                                                                                  0]}],\n",
              "             refit='Accuracy', return_train_score=True,\n",
              "             scoring={'Accuracy': make_scorer(accuracy_score)}, verbose=1)"
            ]
          },
          "metadata": {
            "tags": []
          },
          "execution_count": 135
        }
      ]
    },
    {
      "cell_type": "code",
      "metadata": {
        "colab": {
          "base_uri": "https://localhost:8080/"
        },
        "id": "agODYw6dC-tt",
        "outputId": "7e5e49dc-4d88-4763-95e2-2aed4e77f0ed"
      },
      "source": [
        "## Verificando o melhor resultado para o modelo\n",
        "\n",
        "print(\"Melhor resultado: %f usando %s\" % (all_models.best_score_,all_models.best_params_))"
      ],
      "execution_count": 136,
      "outputs": [
        {
          "output_type": "stream",
          "text": [
            "Melhor resultado: 0.976473 usando {'classifier': DecisionTreeClassifier(), 'classifier__criterion': 'gini', 'classifier__splitter': 'best', 'fs__k': 11, 'fs__score_func': <function mutual_info_classif at 0x7fe244772268>, 'full_pipeline__cat_pipeline__cat_encoder': OneHotEncoder(drop='first', sparse=False), 'full_pipeline__cat_pipeline__cat_transformer__new_features': False, 'full_pipeline__num_pipeline__num_transformer__model': 1}\n"
          ],
          "name": "stdout"
        }
      ]
    },
    {
      "cell_type": "code",
      "metadata": {
        "id": "5w_n6QjNlNtz"
      },
      "source": [
        "## Realizando a predição com o X de teste\n",
        "\n",
        "predict = all_models.predict(X_test)"
      ],
      "execution_count": 137,
      "outputs": []
    },
    {
      "cell_type": "code",
      "metadata": {
        "colab": {
          "base_uri": "https://localhost:8080/"
        },
        "id": "ziPwWqJTlQm3",
        "outputId": "c64b00d8-9028-4c02-eadd-7421b935dcf7"
      },
      "source": [
        "## Avaliando/Comparando o resultado com o Y de teste\n",
        "\n",
        "print(accuracy_score(y_test, predict))"
      ],
      "execution_count": 138,
      "outputs": [
        {
          "output_type": "stream",
          "text": [
            "0.9675675675675676\n"
          ],
          "name": "stdout"
        }
      ]
    },
    {
      "cell_type": "code",
      "metadata": {
        "colab": {
          "base_uri": "https://localhost:8080/",
          "height": 283
        },
        "id": "RWy01ANZlWDb",
        "outputId": "ef3bdeef-8a49-4c98-9dd6-a916bd566567"
      },
      "source": [
        "## Desenhando a matriz de confusão em um gráfico\n",
        "\n",
        "fig, ax = plt.subplots(1,1,figsize=(7,4))\n",
        "\n",
        "ConfusionMatrixDisplay(confusion_matrix(predict,y_test,labels=[\"leve\",\"moderado\",\"grave\",\"severo\"]),\n",
        "                       display_labels=[\"leve\",\"moderado\",\"grave\",\"severo\"]).plot(values_format=\".0f\",ax=ax)\n",
        "\n",
        "ax.set_xlabel(\"True Label\")\n",
        "ax.set_ylabel(\"Predicted Label\")\n",
        "plt.show()"
      ],
      "execution_count": 139,
      "outputs": [
        {
          "output_type": "display_data",
          "data": {
            "image/png": "[encoded data removed]",
            "text/plain": [
              "<Figure size 504x288 with 2 Axes>"
            ]
          },
          "metadata": {
            "tags": [],
            "needs_background": "light"
          }
        }
      ]
    },
    {
      "cell_type": "code",
      "metadata": {
        "id": "JrZN4IkXX0Lv"
      },
      "source": [
        "### ^\n",
        "### O que se nota acima é apenas são pequenos níveis de dificuldade para a \n",
        "###     categorização dos municípios. mais precisamente entre leves e moderados"
      ],
      "execution_count": null,
      "outputs": []
    },
    {
      "cell_type": "code",
      "metadata": {
        "colab": {
          "base_uri": "https://localhost:8080/",
          "height": 1000
        },
        "id": "CjL8tBi3l0aI",
        "outputId": "84fb3c49-c11a-4191-85cd-b9bca03857af"
      },
      "source": [
        "## Investigando de que forma as variáveis contribuíram para o resultado\n",
        "\n",
        "# columns used in the model (k columns)\n",
        "features = all_models.best_estimator_.named_steps['fs']\n",
        "\n",
        "# All information is trackable going back in the Pipeline\n",
        "# categorical columns\n",
        "features_full = all_models.best_estimator_.named_steps['full_pipeline']\n",
        "features_cat = features_full.get_params()[\"cat_pipeline\"]\n",
        "\n",
        "# numerical columns\n",
        "features_full.get_params()[\"num_pipeline\"][1].get_feature_names()\n",
        "\n",
        "# all columns (cat + num)\n",
        "all_columns = features_cat[1].get_feature_names() + features_full.get_params()[\"num_pipeline\"][1].get_feature_names()\n",
        "\n",
        "\n",
        "selected_columns = [value for (value, filter) in zip(all_columns, features.get_support()) if filter]\n",
        "print(selected_columns)\n",
        "\n",
        "fig, ax = plt.subplots(1,1,figsize=(12,8))\n",
        "xticks = [x for x in range(len(features.scores_))] \n",
        "ax.bar(xticks, features.scores_)\n",
        "ax.set_xticks(xticks)\n",
        "ax.set_xticklabels(all_columns,rotation=90)\n",
        "#ax.set_xticks(ticks=xticks, labels=all_columns,rotation=90,fontsize=15)\n",
        "ax.set_title(\"Feature Importance using Bestkselect\")\n",
        "plt.show()\n",
        "\n",
        "classifier = all_models.best_estimator_.named_steps['classifier']\n",
        "print(classifier)\n",
        "\n",
        "# classifier.feature_importances_.shape\n",
        "fig, ax = plt.subplots(1,1,figsize=(12,8))\n",
        "\n",
        "xticks = [x for x in range(len(classifier.feature_importances_))] \n",
        "ax.bar(xticks, classifier.feature_importances_)\n",
        "ax.set_xticks(xticks)\n",
        "ax.set_xticklabels(selected_columns,rotation=90)\n",
        "#ax.set_xticks(ticks=xticks, labels=all_columns,rotation=90,fontsize=15)\n",
        "ax.set_title(\"Feature Importance\")\n",
        "plt.show()"
      ],
      "execution_count": 140,
      "outputs": [
        {
          "output_type": "stream",
          "text": [
            "['reg_metro', 'IDEB_AI', 'DOCSUP_EF_PUB', 'DOCSUP_EM_PUB', 'REN_TRPCBPC_D', 'PDEFESGOTO', 'LAT']\n"
          ],
          "name": "stdout"
        },
        {
          "output_type": "display_data",
          "data": {
            "image/png": "[encoded data removed]",
            "text/plain": [
              "<Figure size 864x576 with 1 Axes>"
            ]
          },
          "metadata": {
            "tags": [],
            "needs_background": "light"
          }
        },
        {
          "output_type": "stream",
          "text": [
            "DecisionTreeClassifier()\n"
          ],
          "name": "stdout"
        },
        {
          "output_type": "display_data",
          "data": {
            "image/png": "[encoded data removed]",
            "text/plain": [
              "<Figure size 864x576 with 1 Axes>"
            ]
          },
          "metadata": {
            "tags": [],
            "needs_background": "light"
          }
        }
      ]
    },
    {
      "cell_type": "code",
      "metadata": {
        "id": "RCcicaGkIDqE"
      },
      "source": [
        ""
      ],
      "execution_count": null,
      "outputs": []
    }
  ]
}