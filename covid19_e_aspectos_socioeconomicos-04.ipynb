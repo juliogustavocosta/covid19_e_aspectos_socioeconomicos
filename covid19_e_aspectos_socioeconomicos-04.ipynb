{
  "nbformat": 4,
  "nbformat_minor": 0,
  "metadata": {
    "colab": {
      "name": "covid19_e_aspectos_socioeconomicos-04.ipynb",
      "provenance": [],
      "collapsed_sections": []
    },
    "kernelspec": {
      "display_name": "Python 3",
      "name": "python3"
    }
  },
  "cells": [
    {
      "cell_type": "markdown",
      "metadata": {
        "id": "Ae09N_daJwjQ"
      },
      "source": [
        "#Estudo sobre o emprego de Técnicas de **Machine Learning**\n",
        "Este estudo, para tanto, implicará reunir de dados de natureza sócioeconômica com o fim de verificar a relação entre esses e a covid-19, no ambiente dos municípios brasileiros"
      ]
    },
    {
      "cell_type": "markdown",
      "metadata": {
        "id": "n89O7k4NuEWv"
      },
      "source": [
        "##1. **Preparação** do Ambiente"
      ]
    },
    {
      "cell_type": "code",
      "metadata": {
        "colab": {
          "base_uri": "https://localhost:8080/"
        },
        "id": "h_6kMTaSRnaZ",
        "outputId": "2a7149b8-97e4-4bad-e71f-cabe4bc6faa9"
      },
      "source": [
        "### Montar o drive com os arquivos de dados\n",
        "\n",
        "from google.colab import drive\n",
        "drive.mount('/content/drive')"
      ],
      "execution_count": 1,
      "outputs": [
        {
          "output_type": "stream",
          "text": [
            "Mounted at /content/drive\n"
          ],
          "name": "stdout"
        }
      ]
    },
    {
      "cell_type": "code",
      "metadata": {
        "id": "hhwWHxaz6qvW",
        "colab": {
          "base_uri": "https://localhost:8080/"
        },
        "outputId": "b01efa52-99b7-4694-ff22-e8ac34efc4f9"
      },
      "source": [
        "### Realizar atualizações e carregamento de libs\n",
        "\n",
        "!pip install --upgrade scikit-learn\n",
        "!pip install --upgrade pivottablejs\n",
        "\n",
        "import zipfile\n",
        "import pandas as pd\n",
        "import numpy as np\n",
        "import seaborn as sns\n",
        "import matplotlib.pyplot as plt\n",
        "from sklearn.neighbors import LocalOutlierFactor\n",
        "from sklearn.model_selection import train_test_split\n",
        "from sklearn.preprocessing import LabelEncoder\n",
        "from sklearn.preprocessing import OneHotEncoder\n",
        "from sklearn.preprocessing import OrdinalEncoder\n",
        "from sklearn.neighbors import KNeighborsClassifier\n",
        "from sklearn.pipeline import Pipeline, FeatureUnion\n",
        "from sklearn.model_selection import StratifiedKFold, KFold, StratifiedShuffleSplit\n",
        "from sklearn.tree import DecisionTreeClassifier\n",
        "from sklearn.model_selection import GridSearchCV\n",
        "from sklearn.metrics import classification_report\n",
        "from sklearn.metrics import confusion_matrix\n",
        "from sklearn.metrics import plot_confusion_matrix\n",
        "from sklearn.metrics import ConfusionMatrixDisplay\n",
        "from sklearn.tree import plot_tree\n",
        "import joblib\n",
        "\n",
        "from sklearn.base import BaseEstimator, TransformerMixin\n",
        "from sklearn.preprocessing import MinMaxScaler\n",
        "from sklearn.preprocessing import StandardScaler\n",
        "from sklearn.feature_selection import SelectKBest, f_classif, mutual_info_classif, chi2\n",
        "\n",
        "from sklearn.metrics import make_scorer\n",
        "from sklearn.metrics import accuracy_score\n",
        "\n",
        "# Rich visual representation of estimators (new 0.23.2)\n",
        "from sklearn import set_config\n",
        "set_config(display='diagram')\n",
        "\n",
        "from pandas_profiling import ProfileReport\n",
        "import matplotlib.pyplot as plt\n",
        "import matplotlib.image as mpimg\n",
        "%matplotlib inline\n",
        "\n",
        "from scipy.stats import randint\n",
        "from sklearn.model_selection import RandomizedSearchCV\n",
        "from sklearn.ensemble import AdaBoostClassifier, GradientBoostingClassifier, RandomForestClassifier\n"
      ],
      "execution_count": 208,
      "outputs": [
        {
          "output_type": "stream",
          "text": [
            "Requirement already up-to-date: scikit-learn in /usr/local/lib/python3.6/dist-packages (0.23.2)\n",
            "Requirement already satisfied, skipping upgrade: numpy>=1.13.3 in /usr/local/lib/python3.6/dist-packages (from scikit-learn) (1.18.5)\n",
            "Requirement already satisfied, skipping upgrade: threadpoolctl>=2.0.0 in /usr/local/lib/python3.6/dist-packages (from scikit-learn) (2.1.0)\n",
            "Requirement already satisfied, skipping upgrade: joblib>=0.11 in /usr/local/lib/python3.6/dist-packages (from scikit-learn) (0.17.0)\n",
            "Requirement already satisfied, skipping upgrade: scipy>=0.19.1 in /usr/local/lib/python3.6/dist-packages (from scikit-learn) (1.4.1)\n",
            "Requirement already up-to-date: pivottablejs in /usr/local/lib/python3.6/dist-packages (0.9.0)\n"
          ],
          "name": "stdout"
        }
      ]
    },
    {
      "cell_type": "markdown",
      "metadata": {
        "id": "-31yFg6Ot6P-"
      },
      "source": [
        "##2. **Carregamento e Preparação** do dataset"
      ]
    },
    {
      "cell_type": "code",
      "metadata": {
        "colab": {
          "base_uri": "https://localhost:8080/"
        },
        "id": "Dr1lxC9cTDtc",
        "outputId": "6226a7aa-8f66-4aba-8629-dae11ac92d90"
      },
      "source": [
        "### Carregar o dataset e exibir infos necessarias a sua análise e preparação\n",
        "###\n",
        "\n",
        "DIR_BASE = '/content/drive/MyDrive/Database/COVID19'\n",
        "\n",
        "with zipfile.ZipFile(DIR_BASE+'/dataset_02.zip','r') as zip_ref:\n",
        "  zip_ref.extractall(DIR_BASE+'/')\n",
        "\n",
        "df_origin = pd.read_csv(DIR_BASE+'/dataset_02.csv', sep=';')\n",
        "df_origin.info()"
      ],
      "execution_count": 155,
      "outputs": [
        {
          "output_type": "stream",
          "text": [
            "<class 'pandas.core.frame.DataFrame'>\n",
            "RangeIndex: 4643 entries, 0 to 4642\n",
            "Data columns (total 58 columns):\n",
            " #   Column             Non-Null Count  Dtype  \n",
            "---  ------             --------------  -----  \n",
            " 0   IBGE               4643 non-null   int64  \n",
            " 1   PMATPUB_EF         4643 non-null   float64\n",
            " 2   PMATPUB_EM         4643 non-null   float64\n",
            " 3   DIST_EF_PUB        4643 non-null   float64\n",
            " 4   DIST_EM_PUB        4643 non-null   float64\n",
            " 5   IDEB_AI            4643 non-null   float64\n",
            " 6   IDEB_AF            4643 non-null   float64\n",
            " 7   DOCSUP_EF_PUB      4643 non-null   float64\n",
            " 8   DOCSUP_EM_PUB      4643 non-null   float64\n",
            " 9   TXMOINF            4643 non-null   float64\n",
            " 10  TXBRUTAMORT        4643 non-null   float64\n",
            " 11  TXCOBPLP           4643 non-null   float64\n",
            " 12  PINTERSAP          4643 non-null   float64\n",
            " 13  PINTERDRSAI        4643 non-null   float64\n",
            " 14  REN_TRPCBF_D       4643 non-null   float64\n",
            " 15  REN_TRPCBPC_D      4643 non-null   float64\n",
            " 16  PDEFAGUA           4643 non-null   float64\n",
            " 17  PDEFESGOTO         4643 non-null   float64\n",
            " 18  PDEFLIXO           4643 non-null   float64\n",
            " 19  PDEFSAN            4643 non-null   float64\n",
            " 20  PPOB_POS           4643 non-null   float64\n",
            " 21  PBF                4643 non-null   float64\n",
            " 22  SNIS_PAGUA         4643 non-null   float64\n",
            " 23  PFOCOS             4643 non-null   float64\n",
            " 24  POP_TOT            4643 non-null   float64\n",
            " 25  estado             4643 non-null   object \n",
            " 26  municipio          4643 non-null   object \n",
            " 27  casosAcumulado     4643 non-null   float64\n",
            " 28  obitosAcumulado    4643 non-null   float64\n",
            " 29  RegMetro           4643 non-null   object \n",
            " 30  Região             4643 non-null   object \n",
            " 31  Porte              4643 non-null   object \n",
            " 32  Capital            4643 non-null   object \n",
            " 33  ESPVIDA            4643 non-null   float64\n",
            " 34  MORT1              4643 non-null   float64\n",
            " 35  T_ENV              4643 non-null   float64\n",
            " 36  RAZDEP             4643 non-null   float64\n",
            " 37  ANOSEST            4643 non-null   float64\n",
            " 38  T_ANALF15M         4643 non-null   float64\n",
            " 39  T_ATRASO_2_BASICO  4643 non-null   float64\n",
            " 40  T_ATRASO_2_FUND    4643 non-null   float64\n",
            " 41  T_FUND15A17        4643 non-null   float64\n",
            " 42  R1040              4643 non-null   float64\n",
            " 43  RDPC               4643 non-null   float64\n",
            " 44  RDPC1              4643 non-null   float64\n",
            " 45  RDPC4              4643 non-null   float64\n",
            " 46  RMPOB              4643 non-null   float64\n",
            " 47  RPOB               4643 non-null   float64\n",
            " 48  PMPOB              4643 non-null   float64\n",
            " 49  PPOB               4643 non-null   float64\n",
            " 50  GINI               4643 non-null   float64\n",
            " 51  IDHM_E             4643 non-null   float64\n",
            " 52  IDHM_L             4643 non-null   float64\n",
            " 53  IDHM_R             4643 non-null   float64\n",
            " 54  IDHM               4643 non-null   float64\n",
            " 55  LON                4643 non-null   float64\n",
            " 56  LAT                4643 non-null   float64\n",
            " 57  ANNUAL             4643 non-null   float64\n",
            "dtypes: float64(51), int64(1), object(6)\n",
            "memory usage: 2.1+ MB\n"
          ],
          "name": "stdout"
        }
      ]
    },
    {
      "cell_type": "code",
      "metadata": {
        "colab": {
          "base_uri": "https://localhost:8080/"
        },
        "id": "WStkOOL5QMn2",
        "outputId": "db56260a-8448-404d-988a-5d1e914e0b4d"
      },
      "source": [
        "### Alguns ajustes - remoção de variáveis que estão relacionadas ao estado, e não\n",
        "###     ao município\n",
        "###\n",
        "\n",
        "df = df_origin.drop(columns=['IBGE', 'municipio', 'Capital', 'ESPVIDA', 'MORT1', 'T_ENV', 'RAZDEP', 'ANOSEST',\n",
        "       'T_ANALF15M', 'T_ATRASO_2_BASICO', 'T_ATRASO_2_FUND', 'T_FUND15A17',\n",
        "       'R1040', 'RDPC', 'RDPC1', 'RDPC4', 'RMPOB', 'RPOB', 'PMPOB', 'PPOB', 'estado',\n",
        "       'GINI', 'IDHM_E', 'IDHM_L', 'IDHM_R', 'IDHM'], errors=True)\n",
        "df.drop_duplicates(inplace=True)\n",
        "df = df.astype({ \n",
        "  'POP_TOT': float\n",
        "})\n",
        "df.columns"
      ],
      "execution_count": 156,
      "outputs": [
        {
          "output_type": "execute_result",
          "data": {
            "text/plain": [
              "Index(['PMATPUB_EF', 'PMATPUB_EM', 'DIST_EF_PUB', 'DIST_EM_PUB', 'IDEB_AI',\n",
              "       'IDEB_AF', 'DOCSUP_EF_PUB', 'DOCSUP_EM_PUB', 'TXMOINF', 'TXBRUTAMORT',\n",
              "       'TXCOBPLP', 'PINTERSAP', 'PINTERDRSAI', 'REN_TRPCBF_D', 'REN_TRPCBPC_D',\n",
              "       'PDEFAGUA', 'PDEFESGOTO', 'PDEFLIXO', 'PDEFSAN', 'PPOB_POS', 'PBF',\n",
              "       'SNIS_PAGUA', 'PFOCOS', 'POP_TOT', 'casosAcumulado', 'obitosAcumulado',\n",
              "       'RegMetro', 'Região', 'Porte', 'LON', 'LAT', 'ANNUAL'],\n",
              "      dtype='object')"
            ]
          },
          "metadata": {
            "tags": []
          },
          "execution_count": 156
        }
      ]
    },
    {
      "cell_type": "code",
      "metadata": {
        "colab": {
          "base_uri": "https://localhost:8080/"
        },
        "id": "ZPBqUQOhqr-R",
        "outputId": "40d9d777-0ca8-452a-9c77-02f8a796aa15"
      },
      "source": [
        "df = df[df['Porte'] == 'Pequeno I'] \n",
        "df = df[df['RegMetro'] == 'Interior'] \n",
        "df = df[(df['Região'] == 'Região Nordeste') | (df['Região'] == 'Região Norte')] \n",
        "df.shape"
      ],
      "execution_count": 157,
      "outputs": [
        {
          "output_type": "execute_result",
          "data": {
            "text/plain": [
              "(1134, 32)"
            ]
          },
          "metadata": {
            "tags": []
          },
          "execution_count": 157
        }
      ]
    },
    {
      "cell_type": "code",
      "metadata": {
        "id": "OPEyZ0ETF-f9"
      },
      "source": [
        "### Criando as variáveis que demonstram o grau de incidência e letalidade\n",
        "###\n",
        "### Observação: são considerados os casos acumulados até à data de 01 de\n",
        "###     Novembro de 2020\n",
        "###\n",
        "\n",
        "if ('letalidade' in df.columns): \n",
        "  df.drop(columns=['letalidade'], inplace=True)\n",
        "df = df.assign(letalidade=\"\")\n",
        "\n",
        "df.loc[:, 'letalidade'] = (df['obitosAcumulado']/df['POP_TOT'])\n",
        "\n",
        "if ('incidencia' in df.columns): \n",
        "  df.drop(columns=['incidencia'], inplace=True)\n",
        "df = df.assign(incidencia=\"\")\n",
        "\n",
        "df.loc[:, 'incidencia'] = (df['casosAcumulado']/df['POP_TOT'])\n"
      ],
      "execution_count": 158,
      "outputs": []
    },
    {
      "cell_type": "code",
      "metadata": {
        "colab": {
          "base_uri": "https://localhost:8080/"
        },
        "id": "Fo_dK0cl9FUx",
        "outputId": "304ac780-0789-4501-fd44-d507439c2a4c"
      },
      "source": [
        "### Descrição de quartiles para criar as classes da variáveis alvo a partir das \n",
        "###    variaveis da celula anterior\n",
        "###\n",
        "\n",
        "print(df['incidencia'].describe())\n",
        "print()\n",
        "print(df['letalidade'].describe())"
      ],
      "execution_count": 159,
      "outputs": [
        {
          "output_type": "stream",
          "text": [
            "count    1134.000000\n",
            "mean        0.023643\n",
            "std         0.021427\n",
            "min         0.000273\n",
            "25%         0.009826\n",
            "50%         0.018123\n",
            "75%         0.030063\n",
            "max         0.207346\n",
            "Name: incidencia, dtype: float64\n",
            "\n",
            "count    1134.000000\n",
            "mean        0.000414\n",
            "std         0.000363\n",
            "min         0.000000\n",
            "25%         0.000131\n",
            "50%         0.000341\n",
            "75%         0.000617\n",
            "max         0.002570\n",
            "Name: letalidade, dtype: float64\n"
          ],
          "name": "stdout"
        }
      ]
    },
    {
      "cell_type": "code",
      "metadata": {
        "id": "Tgpr6BKa8BfD"
      },
      "source": [
        "### Categorizar o 'Y' (variável alvo) com base os quartiles vistos na célula\n",
        "###     anterior. 'Y' como relação de casos e óbitos acumulados por total de \n",
        "###     população\n",
        "###\n",
        "\n",
        "if ('i_t' in df.columns): \n",
        "  df.drop(columns=['i_t'], inplace=True)\n",
        "df = df.assign(i_t=\"\")\n",
        "\n",
        "df.loc[df['incidencia'] <= 0.009, ('i_t')] = 1\n",
        "df.loc[(df['incidencia'] > 0.009) & (df['incidencia'] <= 0.018), ('i_t')] = 2\n",
        "df.loc[(df['incidencia'] > 0.018) & (df['incidencia'] <= 0.030), ('i_t')] = 3\n",
        "df.loc[df['incidencia'] > 0.030, ('i_t')] = 4\n",
        "\n",
        "if ('l_t' in df.columns): \n",
        "  df.drop(columns=['l_t'], inplace=True)\n",
        "df = df.assign(l_t=\"\")\n",
        "\n",
        "df.loc[df['letalidade'] <= 0.0001, ('l_t')] = 1\n",
        "df.loc[(df['letalidade'] > 0.0001) & (df['letalidade'] <= 0.0003), ('l_t')] = 2\n",
        "df.loc[(df['letalidade'] > 0.0003) & (df['letalidade'] <= 0.0006), ('l_t')] = 3\n",
        "df.loc[df['letalidade'] > 0.0006, ('l_t')] = 4\n",
        "\n",
        "df = df.astype({ 'i_t': int, 'l_t': int })\n",
        "\n",
        "if ('delta_il' in df.columns): \n",
        "  df.drop(columns=['delta_il'], inplace=True)\n",
        "df = df.assign(delta_il=\"\")\n",
        "\n",
        "df.loc[:,'delta_il'] = abs(df['i_t'] - df['l_t'])"
      ],
      "execution_count": 161,
      "outputs": []
    },
    {
      "cell_type": "code",
      "metadata": {
        "colab": {
          "base_uri": "https://localhost:8080/",
          "height": 301
        },
        "id": "isLs0jJA79Na",
        "outputId": "2ca420fa-2b83-4a93-8937-00706486d663"
      },
      "source": [
        "df.head()"
      ],
      "execution_count": 148,
      "outputs": [
        {
          "output_type": "execute_result",
          "data": {
            "text/html": [
              "<div>\n",
              "<style scoped>\n",
              "    .dataframe tbody tr th:only-of-type {\n",
              "        vertical-align: middle;\n",
              "    }\n",
              "\n",
              "    .dataframe tbody tr th {\n",
              "        vertical-align: top;\n",
              "    }\n",
              "\n",
              "    .dataframe thead th {\n",
              "        text-align: right;\n",
              "    }\n",
              "</style>\n",
              "<table border=\"1\" class=\"dataframe\">\n",
              "  <thead>\n",
              "    <tr style=\"text-align: right;\">\n",
              "      <th></th>\n",
              "      <th>PMATPUB_EF</th>\n",
              "      <th>PMATPUB_EM</th>\n",
              "      <th>DIST_EF_PUB</th>\n",
              "      <th>DIST_EM_PUB</th>\n",
              "      <th>IDEB_AI</th>\n",
              "      <th>IDEB_AF</th>\n",
              "      <th>DOCSUP_EF_PUB</th>\n",
              "      <th>DOCSUP_EM_PUB</th>\n",
              "      <th>TXMOINF</th>\n",
              "      <th>TXBRUTAMORT</th>\n",
              "      <th>TXCOBPLP</th>\n",
              "      <th>PINTERSAP</th>\n",
              "      <th>PINTERDRSAI</th>\n",
              "      <th>REN_TRPCBF_D</th>\n",
              "      <th>REN_TRPCBPC_D</th>\n",
              "      <th>PDEFAGUA</th>\n",
              "      <th>PDEFESGOTO</th>\n",
              "      <th>PDEFLIXO</th>\n",
              "      <th>PDEFSAN</th>\n",
              "      <th>PPOB_POS</th>\n",
              "      <th>PBF</th>\n",
              "      <th>SNIS_PAGUA</th>\n",
              "      <th>PFOCOS</th>\n",
              "      <th>POP_TOT</th>\n",
              "      <th>casosAcumulado</th>\n",
              "      <th>obitosAcumulado</th>\n",
              "      <th>RegMetro</th>\n",
              "      <th>Região</th>\n",
              "      <th>Porte</th>\n",
              "      <th>LON</th>\n",
              "      <th>LAT</th>\n",
              "      <th>ANNUAL</th>\n",
              "      <th>letalidade</th>\n",
              "      <th>incidencia</th>\n",
              "      <th>i_t</th>\n",
              "      <th>l_t</th>\n",
              "      <th>delta_il</th>\n",
              "    </tr>\n",
              "  </thead>\n",
              "  <tbody>\n",
              "    <tr>\n",
              "      <th>2</th>\n",
              "      <td>100.00</td>\n",
              "      <td>100.00</td>\n",
              "      <td>11.8</td>\n",
              "      <td>27.8</td>\n",
              "      <td>6.1</td>\n",
              "      <td>5.1</td>\n",
              "      <td>73.5</td>\n",
              "      <td>60.7</td>\n",
              "      <td>0.00</td>\n",
              "      <td>4.66</td>\n",
              "      <td>3.31</td>\n",
              "      <td>47.04</td>\n",
              "      <td>7.47</td>\n",
              "      <td>36.76</td>\n",
              "      <td>103.04</td>\n",
              "      <td>64.37</td>\n",
              "      <td>40.09</td>\n",
              "      <td>40.23</td>\n",
              "      <td>17.92</td>\n",
              "      <td>75.32</td>\n",
              "      <td>47.87</td>\n",
              "      <td>85.80</td>\n",
              "      <td>0.06</td>\n",
              "      <td>6224.0</td>\n",
              "      <td>137.0</td>\n",
              "      <td>5.0</td>\n",
              "      <td>Interior</td>\n",
              "      <td>Região Norte</td>\n",
              "      <td>Pequeno I</td>\n",
              "      <td>-60.5446</td>\n",
              "      <td>-13.4951</td>\n",
              "      <td>3831.0</td>\n",
              "      <td>0.000803</td>\n",
              "      <td>0.022012</td>\n",
              "      <td>3</td>\n",
              "      <td>4</td>\n",
              "      <td>1</td>\n",
              "    </tr>\n",
              "    <tr>\n",
              "      <th>4</th>\n",
              "      <td>96.31</td>\n",
              "      <td>97.47</td>\n",
              "      <td>15.5</td>\n",
              "      <td>26.9</td>\n",
              "      <td>6.4</td>\n",
              "      <td>5.3</td>\n",
              "      <td>65.8</td>\n",
              "      <td>39.2</td>\n",
              "      <td>3.61</td>\n",
              "      <td>4.52</td>\n",
              "      <td>3.81</td>\n",
              "      <td>37.16</td>\n",
              "      <td>6.46</td>\n",
              "      <td>44.39</td>\n",
              "      <td>172.70</td>\n",
              "      <td>68.13</td>\n",
              "      <td>91.35</td>\n",
              "      <td>11.01</td>\n",
              "      <td>10.22</td>\n",
              "      <td>68.43</td>\n",
              "      <td>46.38</td>\n",
              "      <td>64.95</td>\n",
              "      <td>0.49</td>\n",
              "      <td>17934.0</td>\n",
              "      <td>276.0</td>\n",
              "      <td>6.0</td>\n",
              "      <td>Interior</td>\n",
              "      <td>Região Norte</td>\n",
              "      <td>Pequeno I</td>\n",
              "      <td>-60.8173</td>\n",
              "      <td>-13.1874</td>\n",
              "      <td>3744.0</td>\n",
              "      <td>0.000335</td>\n",
              "      <td>0.015390</td>\n",
              "      <td>2</td>\n",
              "      <td>3</td>\n",
              "      <td>1</td>\n",
              "    </tr>\n",
              "    <tr>\n",
              "      <th>5</th>\n",
              "      <td>96.50</td>\n",
              "      <td>100.00</td>\n",
              "      <td>12.6</td>\n",
              "      <td>18.6</td>\n",
              "      <td>6.4</td>\n",
              "      <td>5.0</td>\n",
              "      <td>65.9</td>\n",
              "      <td>66.0</td>\n",
              "      <td>20.58</td>\n",
              "      <td>4.60</td>\n",
              "      <td>6.34</td>\n",
              "      <td>34.49</td>\n",
              "      <td>7.86</td>\n",
              "      <td>20.44</td>\n",
              "      <td>170.99</td>\n",
              "      <td>31.13</td>\n",
              "      <td>95.26</td>\n",
              "      <td>22.30</td>\n",
              "      <td>19.30</td>\n",
              "      <td>63.52</td>\n",
              "      <td>37.19</td>\n",
              "      <td>100.00</td>\n",
              "      <td>0.02</td>\n",
              "      <td>18467.0</td>\n",
              "      <td>251.0</td>\n",
              "      <td>4.0</td>\n",
              "      <td>Interior</td>\n",
              "      <td>Região Norte</td>\n",
              "      <td>Pequeno I</td>\n",
              "      <td>-60.5459</td>\n",
              "      <td>-13.1178</td>\n",
              "      <td>3565.0</td>\n",
              "      <td>0.000217</td>\n",
              "      <td>0.013592</td>\n",
              "      <td>2</td>\n",
              "      <td>2</td>\n",
              "      <td>0</td>\n",
              "    </tr>\n",
              "    <tr>\n",
              "      <th>6</th>\n",
              "      <td>100.00</td>\n",
              "      <td>100.00</td>\n",
              "      <td>21.3</td>\n",
              "      <td>31.5</td>\n",
              "      <td>5.7</td>\n",
              "      <td>4.4</td>\n",
              "      <td>55.1</td>\n",
              "      <td>66.8</td>\n",
              "      <td>22.99</td>\n",
              "      <td>3.70</td>\n",
              "      <td>1.47</td>\n",
              "      <td>20.66</td>\n",
              "      <td>2.02</td>\n",
              "      <td>72.80</td>\n",
              "      <td>67.05</td>\n",
              "      <td>75.76</td>\n",
              "      <td>69.03</td>\n",
              "      <td>57.39</td>\n",
              "      <td>49.68</td>\n",
              "      <td>83.85</td>\n",
              "      <td>57.84</td>\n",
              "      <td>76.11</td>\n",
              "      <td>0.16</td>\n",
              "      <td>8659.0</td>\n",
              "      <td>48.0</td>\n",
              "      <td>3.0</td>\n",
              "      <td>Interior</td>\n",
              "      <td>Região Norte</td>\n",
              "      <td>Pequeno I</td>\n",
              "      <td>-60.9421</td>\n",
              "      <td>-12.9982</td>\n",
              "      <td>3660.0</td>\n",
              "      <td>0.000346</td>\n",
              "      <td>0.005543</td>\n",
              "      <td>1</td>\n",
              "      <td>3</td>\n",
              "      <td>2</td>\n",
              "    </tr>\n",
              "    <tr>\n",
              "      <th>7</th>\n",
              "      <td>100.00</td>\n",
              "      <td>100.00</td>\n",
              "      <td>26.4</td>\n",
              "      <td>37.2</td>\n",
              "      <td>4.8</td>\n",
              "      <td>5.0</td>\n",
              "      <td>42.7</td>\n",
              "      <td>51.6</td>\n",
              "      <td>32.41</td>\n",
              "      <td>3.39</td>\n",
              "      <td>1.75</td>\n",
              "      <td>31.36</td>\n",
              "      <td>3.58</td>\n",
              "      <td>147.47</td>\n",
              "      <td>97.13</td>\n",
              "      <td>58.68</td>\n",
              "      <td>35.14</td>\n",
              "      <td>32.91</td>\n",
              "      <td>20.78</td>\n",
              "      <td>95.16</td>\n",
              "      <td>87.42</td>\n",
              "      <td>30.27</td>\n",
              "      <td>0.75</td>\n",
              "      <td>17400.0</td>\n",
              "      <td>326.0</td>\n",
              "      <td>6.0</td>\n",
              "      <td>Interior</td>\n",
              "      <td>Região Norte</td>\n",
              "      <td>Pequeno I</td>\n",
              "      <td>-64.2284</td>\n",
              "      <td>-12.4371</td>\n",
              "      <td>3505.0</td>\n",
              "      <td>0.000345</td>\n",
              "      <td>0.018736</td>\n",
              "      <td>3</td>\n",
              "      <td>3</td>\n",
              "      <td>0</td>\n",
              "    </tr>\n",
              "  </tbody>\n",
              "</table>\n",
              "</div>"
            ],
            "text/plain": [
              "   PMATPUB_EF  PMATPUB_EM  DIST_EF_PUB  ...  i_t  l_t  delta_il\n",
              "2      100.00      100.00         11.8  ...    3    4         1\n",
              "4       96.31       97.47         15.5  ...    2    3         1\n",
              "5       96.50      100.00         12.6  ...    2    2         0\n",
              "6      100.00      100.00         21.3  ...    1    3         2\n",
              "7      100.00      100.00         26.4  ...    3    3         0\n",
              "\n",
              "[5 rows x 37 columns]"
            ]
          },
          "metadata": {
            "tags": []
          },
          "execution_count": 148
        }
      ]
    },
    {
      "cell_type": "code",
      "metadata": {
        "id": "lERD11tFxVij"
      },
      "source": [
        "### Definindo o Y Categorizado a partir de obitosAcumulado e casosAcumulado,\n",
        "###    pela tamanho da populacao, segundo critério explicitado no artigo no \n",
        "###    medium\n",
        "\n",
        "if ('Y' in df.columns): \n",
        "  df.drop(columns=['Y'], inplace=True)\n",
        "df = df.assign(Y=\"\")\n",
        "\n",
        "idy = len(df.columns)-1;\n",
        "for idx in range(len(df.index)):\n",
        "  delta_il = df.iloc[idx]['delta_il']\n",
        "  i_t = df.iloc[idx]['i_t']\n",
        "  l_t = df.iloc[idx]['l_t']\n",
        "  if (delta_il == 0 or delta_il == 1):\n",
        "    if (i_t < l_t):\n",
        "      df.iloc[idx, idy] = i_t\n",
        "    elif (i_t > l_t):\n",
        "      df.iloc[idx, idy] = l_t\n",
        "    else:\n",
        "      df.iloc[idx, idy] = i_t\n",
        "  elif (delta_il == 2):\n",
        "    if (i_t < l_t):\n",
        "      df.iloc[idx, idy] = i_t+1\n",
        "    elif (i_t > l_t):\n",
        "      df.iloc[idx, idy] = l_t+1\n",
        "    else:\n",
        "      df.iloc[idx, idy] = i_t\n",
        "  elif (delta_il == 3):\n",
        "    if (i_t < l_t):\n",
        "      df.iloc[idx, idy] = i_t+2\n",
        "    elif (i_t > l_t):\n",
        "      df.iloc[idx, idy] = l_t+2\n",
        "    else:\n",
        "      df.iloc[idx, idy] = i_t\n"
      ],
      "execution_count": 162,
      "outputs": []
    },
    {
      "cell_type": "code",
      "metadata": {
        "id": "7kJVThIZ6cxs"
      },
      "source": [
        "df = df.astype({'Y': str})\n",
        "\n",
        "df['Y'].replace(to_replace = '1', value = 'preparado', inplace = True)\n",
        "df['Y'].replace(to_replace = '2', value = 'não preparado', inplace = True)\n",
        "df['Y'].replace(to_replace = '3', value = 'não preparado', inplace = True)\n",
        "df['Y'].replace(to_replace = '4', value = 'não preparado', inplace = True)"
      ],
      "execution_count": 163,
      "outputs": []
    },
    {
      "cell_type": "code",
      "metadata": {
        "colab": {
          "base_uri": "https://localhost:8080/",
          "height": 281
        },
        "id": "U-yz0dp-xh7W",
        "outputId": "a646a1a6-d36a-48a3-abe0-8fbf461ef2a3"
      },
      "source": [
        "df['Y'].hist()"
      ],
      "execution_count": 164,
      "outputs": [
        {
          "output_type": "execute_result",
          "data": {
            "text/plain": [
              "<matplotlib.axes._subplots.AxesSubplot at 0x7fd192af09e8>"
            ]
          },
          "metadata": {
            "tags": []
          },
          "execution_count": 164
        },
        {
          "output_type": "display_data",
          "data": {
            "image/png": "[encoded data removed]",
            "text/plain": [
              "<Figure size 432x288 with 1 Axes>"
            ]
          },
          "metadata": {
            "tags": [],
            "needs_background": "light"
          }
        }
      ]
    },
    {
      "cell_type": "code",
      "metadata": {
        "id": "lpzV9wU71f3o"
      },
      "source": [
        "# from sklearn.utils import resample\n",
        "\n",
        "# # Separate majority and minority classes\n",
        "# df_majority = df[df.Y == 'não preparado']\n",
        "# df_minority = df[df.Y == 'preparado']\n",
        " \n",
        "# # Downsample majority class\n",
        "# df_majority_downsampled = resample(df_majority, \n",
        "#                                  replace=False,    # sample without replacement\n",
        "#                                  n_samples=282,     # to match minority class\n",
        "#                                  random_state=123) # reproducible results\n",
        "\n",
        "# # Combine minority class with downsampled majority class\n",
        "# df_downsampled = pd.concat([df_majority_downsampled, df_minority])"
      ],
      "execution_count": 152,
      "outputs": []
    },
    {
      "cell_type": "code",
      "metadata": {
        "id": "5EH2bywT2HLm"
      },
      "source": [
        "# df = df_downsampled.copy()\n",
        "# df_downsampled['Y'].hist()\n",
        "# print(df_majority_downsampled.shape)\n",
        "# print(df_minority.shape)\n",
        "# print(df_downsampled.Y.hist())"
      ],
      "execution_count": 153,
      "outputs": []
    },
    {
      "cell_type": "code",
      "metadata": {
        "id": "jUtU0ag2nuOy"
      },
      "source": [
        "### ^\n",
        "### Há um desbalanceamento. \n",
        "# df = df_downsampled.copy()\n"
      ],
      "execution_count": 154,
      "outputs": []
    },
    {
      "cell_type": "code",
      "metadata": {
        "id": "KVR31HhugKV4"
      },
      "source": [
        "### Remoção de variáveis que auxiliam a definição do Y\n",
        "### \n",
        "\n",
        "df.drop(columns=['casosAcumulado', 'obitosAcumulado', 'i_t', 'l_t', 'delta_il', 'letalidade', 'incidencia'], inplace=True)"
      ],
      "execution_count": 165,
      "outputs": []
    },
    {
      "cell_type": "code",
      "metadata": {
        "id": "jbhj5GuLjYyi"
      },
      "source": [
        "### Definição das classes para extração de novas features e melhorias na \n",
        "###     categorização dos dados no dataset, além na normalização dos dados\n",
        "###     numéricos\n",
        "\n",
        "#=========================================================\n",
        "#Custom Transformer that extracts columns passed as argument to its constructor \n",
        "class FeatureSelector( BaseEstimator, TransformerMixin ):\n",
        "    #Class Constructor \n",
        "    def __init__( self, feature_names ):\n",
        "        self.feature_names = feature_names \n",
        "    \n",
        "    #Return self nothing else to do here    \n",
        "    def fit( self, X, y = None ):\n",
        "        return self \n",
        "    \n",
        "    #Method that describes what we need this transformer to do\n",
        "    def transform( self, X, y = None ):\n",
        "        return X[ self.feature_names ]\n",
        "\n",
        "#=========================================================\n",
        "# Handling categorical features \n",
        "class CategoricalTransformer( BaseEstimator, TransformerMixin ):\n",
        "  # Class constructor method that takes one boolean as its argument\n",
        "  def __init__(self, new_features=True):\n",
        "    self.new_features = new_features\n",
        "    self.colnames = None\n",
        "\n",
        "  #Return self nothing else to do here    \n",
        "  def fit( self, X, y = None ):\n",
        "    return self \n",
        "\n",
        "  def get_feature_names(self):\n",
        "        return self.colnames.tolist()\n",
        "\n",
        "  # Transformer method we wrote for this transformer \n",
        "  def transform(self, X , y = None ):\n",
        "    df = X.copy()\n",
        "    \n",
        "    # customize feature?\n",
        "    # how can I identify this one? EDA!!!!\n",
        "    # if self.new_features: \n",
        "\n",
        "      # Desnecessário, atividade realizada em notebook anterior\n",
        "\n",
        "    # update column names\n",
        "    self.colnames = df.columns      \n",
        "  \n",
        "    return df\n",
        "\n",
        "#=========================================================\n",
        "# transform numerical features\n",
        "class NumericalTransformer( BaseEstimator, TransformerMixin ):\n",
        "  # Class constructor method that takes a model parameter as its argument\n",
        "  # model 0: minmax\n",
        "  # model 1: standard\n",
        "  # model 2: without scaler\n",
        "  def __init__(self, model = 0):\n",
        "    self.model = model\n",
        "    self.colnames = None\n",
        "\n",
        "  #Return self nothing else to do here    \n",
        "  def fit( self, X, y = None ):\n",
        "    return self\n",
        "\n",
        "  # return columns names after transformation\n",
        "  def get_feature_names(self):\n",
        "        return self.colnames \n",
        "        \n",
        "  #Transformer method we wrote for this transformer \n",
        "  def transform(self, X , y = None ):\n",
        "    df = X.copy()\n",
        "    \n",
        "    # update columns name\n",
        "    self.colnames = df.columns.tolist()\n",
        "    \n",
        "    # minmax\n",
        "    if self.model == 0: \n",
        "      scaler = MinMaxScaler()\n",
        "      # transform data\n",
        "      df = scaler.fit_transform(df)\n",
        "    elif self.model == 1:\n",
        "      scaler = StandardScaler()\n",
        "      # transform data\n",
        "      df = scaler.fit_transform(df)\n",
        "    else:\n",
        "      df = df.values\n",
        "\n",
        "    return df\n"
      ],
      "execution_count": 166,
      "outputs": []
    },
    {
      "cell_type": "code",
      "metadata": {
        "colab": {
          "base_uri": "https://localhost:8080/",
          "height": 334
        },
        "id": "L3Uo-TgCri9s",
        "outputId": "34495fac-3807-4e6a-b3dc-190cc051f294"
      },
      "source": [
        "### Remoção de Outliners\n",
        "\n",
        "# Verify if columns[float64] has outliers (with data leakage!!!!!!!)\n",
        "x = df.select_dtypes(\"float64\")\n",
        "\n",
        "# identify outlier in the dataset\n",
        "lof = LocalOutlierFactor()\n",
        "outlier = lof.fit_predict(x)\n",
        "mask = outlier != -1\n",
        "\n",
        "print(\"df shape [original]: {}\".format(df.shape))\n",
        "print(\"df shape [outlier removal]: {}\".format(df.loc[mask,:].shape))\n",
        "\n",
        "# municipios with outliner\n",
        "df_w = df.loc[mask,:].copy()\n",
        "df_w.head()"
      ],
      "execution_count": 167,
      "outputs": [
        {
          "output_type": "stream",
          "text": [
            "df shape [original]: (1134, 31)\n",
            "df shape [outlier removal]: (1128, 31)\n"
          ],
          "name": "stdout"
        },
        {
          "output_type": "execute_result",
          "data": {
            "text/html": [
              "<div>\n",
              "<style scoped>\n",
              "    .dataframe tbody tr th:only-of-type {\n",
              "        vertical-align: middle;\n",
              "    }\n",
              "\n",
              "    .dataframe tbody tr th {\n",
              "        vertical-align: top;\n",
              "    }\n",
              "\n",
              "    .dataframe thead th {\n",
              "        text-align: right;\n",
              "    }\n",
              "</style>\n",
              "<table border=\"1\" class=\"dataframe\">\n",
              "  <thead>\n",
              "    <tr style=\"text-align: right;\">\n",
              "      <th></th>\n",
              "      <th>PMATPUB_EF</th>\n",
              "      <th>PMATPUB_EM</th>\n",
              "      <th>DIST_EF_PUB</th>\n",
              "      <th>DIST_EM_PUB</th>\n",
              "      <th>IDEB_AI</th>\n",
              "      <th>IDEB_AF</th>\n",
              "      <th>DOCSUP_EF_PUB</th>\n",
              "      <th>DOCSUP_EM_PUB</th>\n",
              "      <th>TXMOINF</th>\n",
              "      <th>TXBRUTAMORT</th>\n",
              "      <th>TXCOBPLP</th>\n",
              "      <th>PINTERSAP</th>\n",
              "      <th>PINTERDRSAI</th>\n",
              "      <th>REN_TRPCBF_D</th>\n",
              "      <th>REN_TRPCBPC_D</th>\n",
              "      <th>PDEFAGUA</th>\n",
              "      <th>PDEFESGOTO</th>\n",
              "      <th>PDEFLIXO</th>\n",
              "      <th>PDEFSAN</th>\n",
              "      <th>PPOB_POS</th>\n",
              "      <th>PBF</th>\n",
              "      <th>SNIS_PAGUA</th>\n",
              "      <th>PFOCOS</th>\n",
              "      <th>POP_TOT</th>\n",
              "      <th>RegMetro</th>\n",
              "      <th>Região</th>\n",
              "      <th>Porte</th>\n",
              "      <th>LON</th>\n",
              "      <th>LAT</th>\n",
              "      <th>ANNUAL</th>\n",
              "      <th>Y</th>\n",
              "    </tr>\n",
              "  </thead>\n",
              "  <tbody>\n",
              "    <tr>\n",
              "      <th>2</th>\n",
              "      <td>100.00</td>\n",
              "      <td>100.00</td>\n",
              "      <td>11.8</td>\n",
              "      <td>27.8</td>\n",
              "      <td>6.1</td>\n",
              "      <td>5.1</td>\n",
              "      <td>73.5</td>\n",
              "      <td>60.7</td>\n",
              "      <td>0.00</td>\n",
              "      <td>4.66</td>\n",
              "      <td>3.31</td>\n",
              "      <td>47.04</td>\n",
              "      <td>7.47</td>\n",
              "      <td>36.76</td>\n",
              "      <td>103.04</td>\n",
              "      <td>64.37</td>\n",
              "      <td>40.09</td>\n",
              "      <td>40.23</td>\n",
              "      <td>17.92</td>\n",
              "      <td>75.32</td>\n",
              "      <td>47.87</td>\n",
              "      <td>85.80</td>\n",
              "      <td>0.06</td>\n",
              "      <td>6224.0</td>\n",
              "      <td>Interior</td>\n",
              "      <td>Região Norte</td>\n",
              "      <td>Pequeno I</td>\n",
              "      <td>-60.5446</td>\n",
              "      <td>-13.4951</td>\n",
              "      <td>3831.0</td>\n",
              "      <td>não preparado</td>\n",
              "    </tr>\n",
              "    <tr>\n",
              "      <th>4</th>\n",
              "      <td>96.31</td>\n",
              "      <td>97.47</td>\n",
              "      <td>15.5</td>\n",
              "      <td>26.9</td>\n",
              "      <td>6.4</td>\n",
              "      <td>5.3</td>\n",
              "      <td>65.8</td>\n",
              "      <td>39.2</td>\n",
              "      <td>3.61</td>\n",
              "      <td>4.52</td>\n",
              "      <td>3.81</td>\n",
              "      <td>37.16</td>\n",
              "      <td>6.46</td>\n",
              "      <td>44.39</td>\n",
              "      <td>172.70</td>\n",
              "      <td>68.13</td>\n",
              "      <td>91.35</td>\n",
              "      <td>11.01</td>\n",
              "      <td>10.22</td>\n",
              "      <td>68.43</td>\n",
              "      <td>46.38</td>\n",
              "      <td>64.95</td>\n",
              "      <td>0.49</td>\n",
              "      <td>17934.0</td>\n",
              "      <td>Interior</td>\n",
              "      <td>Região Norte</td>\n",
              "      <td>Pequeno I</td>\n",
              "      <td>-60.8173</td>\n",
              "      <td>-13.1874</td>\n",
              "      <td>3744.0</td>\n",
              "      <td>não preparado</td>\n",
              "    </tr>\n",
              "    <tr>\n",
              "      <th>5</th>\n",
              "      <td>96.50</td>\n",
              "      <td>100.00</td>\n",
              "      <td>12.6</td>\n",
              "      <td>18.6</td>\n",
              "      <td>6.4</td>\n",
              "      <td>5.0</td>\n",
              "      <td>65.9</td>\n",
              "      <td>66.0</td>\n",
              "      <td>20.58</td>\n",
              "      <td>4.60</td>\n",
              "      <td>6.34</td>\n",
              "      <td>34.49</td>\n",
              "      <td>7.86</td>\n",
              "      <td>20.44</td>\n",
              "      <td>170.99</td>\n",
              "      <td>31.13</td>\n",
              "      <td>95.26</td>\n",
              "      <td>22.30</td>\n",
              "      <td>19.30</td>\n",
              "      <td>63.52</td>\n",
              "      <td>37.19</td>\n",
              "      <td>100.00</td>\n",
              "      <td>0.02</td>\n",
              "      <td>18467.0</td>\n",
              "      <td>Interior</td>\n",
              "      <td>Região Norte</td>\n",
              "      <td>Pequeno I</td>\n",
              "      <td>-60.5459</td>\n",
              "      <td>-13.1178</td>\n",
              "      <td>3565.0</td>\n",
              "      <td>não preparado</td>\n",
              "    </tr>\n",
              "    <tr>\n",
              "      <th>6</th>\n",
              "      <td>100.00</td>\n",
              "      <td>100.00</td>\n",
              "      <td>21.3</td>\n",
              "      <td>31.5</td>\n",
              "      <td>5.7</td>\n",
              "      <td>4.4</td>\n",
              "      <td>55.1</td>\n",
              "      <td>66.8</td>\n",
              "      <td>22.99</td>\n",
              "      <td>3.70</td>\n",
              "      <td>1.47</td>\n",
              "      <td>20.66</td>\n",
              "      <td>2.02</td>\n",
              "      <td>72.80</td>\n",
              "      <td>67.05</td>\n",
              "      <td>75.76</td>\n",
              "      <td>69.03</td>\n",
              "      <td>57.39</td>\n",
              "      <td>49.68</td>\n",
              "      <td>83.85</td>\n",
              "      <td>57.84</td>\n",
              "      <td>76.11</td>\n",
              "      <td>0.16</td>\n",
              "      <td>8659.0</td>\n",
              "      <td>Interior</td>\n",
              "      <td>Região Norte</td>\n",
              "      <td>Pequeno I</td>\n",
              "      <td>-60.9421</td>\n",
              "      <td>-12.9982</td>\n",
              "      <td>3660.0</td>\n",
              "      <td>não preparado</td>\n",
              "    </tr>\n",
              "    <tr>\n",
              "      <th>7</th>\n",
              "      <td>100.00</td>\n",
              "      <td>100.00</td>\n",
              "      <td>26.4</td>\n",
              "      <td>37.2</td>\n",
              "      <td>4.8</td>\n",
              "      <td>5.0</td>\n",
              "      <td>42.7</td>\n",
              "      <td>51.6</td>\n",
              "      <td>32.41</td>\n",
              "      <td>3.39</td>\n",
              "      <td>1.75</td>\n",
              "      <td>31.36</td>\n",
              "      <td>3.58</td>\n",
              "      <td>147.47</td>\n",
              "      <td>97.13</td>\n",
              "      <td>58.68</td>\n",
              "      <td>35.14</td>\n",
              "      <td>32.91</td>\n",
              "      <td>20.78</td>\n",
              "      <td>95.16</td>\n",
              "      <td>87.42</td>\n",
              "      <td>30.27</td>\n",
              "      <td>0.75</td>\n",
              "      <td>17400.0</td>\n",
              "      <td>Interior</td>\n",
              "      <td>Região Norte</td>\n",
              "      <td>Pequeno I</td>\n",
              "      <td>-64.2284</td>\n",
              "      <td>-12.4371</td>\n",
              "      <td>3505.0</td>\n",
              "      <td>não preparado</td>\n",
              "    </tr>\n",
              "  </tbody>\n",
              "</table>\n",
              "</div>"
            ],
            "text/plain": [
              "   PMATPUB_EF  PMATPUB_EM  DIST_EF_PUB  ...      LAT  ANNUAL              Y\n",
              "2      100.00      100.00         11.8  ... -13.4951  3831.0  não preparado\n",
              "4       96.31       97.47         15.5  ... -13.1874  3744.0  não preparado\n",
              "5       96.50      100.00         12.6  ... -13.1178  3565.0  não preparado\n",
              "6      100.00      100.00         21.3  ... -12.9982  3660.0  não preparado\n",
              "7      100.00      100.00         26.4  ... -12.4371  3505.0  não preparado\n",
              "\n",
              "[5 rows x 31 columns]"
            ]
          },
          "metadata": {
            "tags": []
          },
          "execution_count": 167
        }
      ]
    },
    {
      "cell_type": "markdown",
      "metadata": {
        "id": "1fFtWtTA23_8"
      },
      "source": [
        "#3. Preparando os **Classificadores** (via pipeline)"
      ]
    },
    {
      "cell_type": "code",
      "metadata": {
        "id": "Xf_JMGiJyn-D"
      },
      "source": [
        "### split-out train/validation and test dataset\n",
        "\n",
        "X_train, X_test, y_train, y_test = train_test_split(df_w.drop(labels=\"Y\",axis=1),\n",
        "                                                    df_w[\"Y\"],\n",
        "                                                    test_size=0.20,\n",
        "                                                    random_state=41,\n",
        "                                                    shuffle=True,\n",
        "                                                    stratify=df_w[\"Y\"])"
      ],
      "execution_count": 168,
      "outputs": []
    },
    {
      "cell_type": "code",
      "metadata": {
        "id": "EIMyYl675OiG"
      },
      "source": [
        "### Preparação do Pipeline\n",
        "\n",
        "# Categrical features to pass down the categorical pipeline \n",
        "categorical_features = X_train.select_dtypes(\"object\").columns.to_list()\n",
        "\n",
        "# Numerical features to pass down the numerical pipeline \n",
        "numerical_features = X_train.select_dtypes(\"float64\").columns.to_list()\n",
        "\n",
        "# Defining the steps in the categorical pipeline \n",
        "categorical_pipeline = Pipeline(steps = [('cat_selector', FeatureSelector(categorical_features)),\n",
        "                                         ('cat_transformer', CategoricalTransformer()),\n",
        "                                         ('cat_encoder','passthrough')\n",
        "                                         #('cat_encoder',OneHotEncoder(sparse=False,drop=\"first\"))\n",
        "                                         ]\n",
        "                                )\n",
        "\n",
        "# Defining the steps in the numerical pipeline     \n",
        "numerical_pipeline = Pipeline(steps = [('num_selector', FeatureSelector(numerical_features)),\n",
        "                                       ('num_transformer', NumericalTransformer()) \n",
        "                                       ]\n",
        "                              )\n",
        "\n",
        "# Combining numerical and categorical piepline into one full big pipeline horizontally \n",
        "# using FeatureUnion\n",
        "full_pipeline_preprocessing = FeatureUnion(transformer_list = [('cat_pipeline', categorical_pipeline),\n",
        "                                                               ('num_pipeline', numerical_pipeline)\n",
        "                                                               ]\n",
        "                                           )"
      ],
      "execution_count": 169,
      "outputs": []
    },
    {
      "cell_type": "code",
      "metadata": {
        "id": "-QVGgsMEz6oJ",
        "colab": {
          "base_uri": "https://localhost:8080/"
        },
        "outputId": "f2b1a9e3-c222-488b-f51a-2ac369e651bf"
      },
      "source": [
        "### Configuração e execução do Pipeline\n",
        "\n",
        "seed = 15\n",
        "num_folds = 10\n",
        "# scoring = {'AUC': 'roc_auc', 'Accuracy': make_scorer(accuracy_score)}\n",
        "scoring = {'Accuracy': make_scorer(accuracy_score)}\n",
        "\n",
        "# The full pipeline \n",
        "pipe = Pipeline(steps = [('full_pipeline', full_pipeline_preprocessing),\n",
        "                         (\"fs\", SelectKBest()),\n",
        "                         (\"classifier\", DecisionTreeClassifier())])\n",
        "\n",
        "# create a dictionary with the hyperparameters\n",
        "search_space = [\n",
        "                # {\"classifier\": [DecisionTreeClassifier()],\n",
        "                #  \"classifier__criterion\": [\"gini\", \"entropy\"],\n",
        "                #  \"classifier__splitter\": [\"best\", \"random\"],\n",
        "                #  \"fs__k\": [11, 13, 17, 19],\n",
        "                #  \"fs__score_func\": [f_classif],  #[f_classif, mutual_info_classif, chi2],\n",
        "                #  \"full_pipeline__cat_pipeline__cat_encoder\": [OneHotEncoder(sparse=False,drop=\"first\")], #[OneHotEncoder(sparse=False,drop=\"first\"), OrdinalEncoder()],\n",
        "                #  \"full_pipeline__cat_pipeline__cat_transformer__new_features\": [False],\n",
        "                #  \"full_pipeline__num_pipeline__num_transformer__model\": [1,0]},\n",
        "                #  {\"classifier\": [RandomForestClassifier()],\n",
        "                #  \"classifier__criterion\": [\"gini\",\"entropy\"], \n",
        "                #  \"classifier__n_estimators\": [100, 200, 300, 500],\n",
        "                #  \"fs__k\":[11, 13, 17, 19, 23],\n",
        "                #  \"fs__score_func\": [mutual_info_classif],\n",
        "                #  \"full_pipeline__cat_pipeline__cat_encoder\":[OneHotEncoder(sparse=False,drop=\"first\")]},\n",
        "                # {\"classifier\": [AdaBoostClassifier()],\n",
        "                #  \"classifier__n_estimators\": [100, 200, 500], \n",
        "                #  \"classifier__learning_rate\": [ 0.01, 0.1, 0.2 ],\n",
        "                #  \"classifier__random_state\": [seed],\n",
        "                #  \"fs__k\": [11, 13, 17, 19],\n",
        "                #  \"fs__score_func\": [f_classif],\n",
        "                #  \"full_pipeline__cat_pipeline__cat_encoder\":[OneHotEncoder(sparse=False,drop=\"first\")]},\n",
        "                {\"classifier\": [GradientBoostingClassifier()],\n",
        "                 \"classifier__n_estimators\": [100, 200, 500], \n",
        "                 \"classifier__learning_rate\": [ 0.01, 0.1, 0.2 ],\n",
        "                 \"classifier__random_state\": [seed],\n",
        "                 \"fs__k\": [11, 13, 17, 19],\n",
        "                 \"fs__score_func\": [f_classif],\n",
        "                 \"full_pipeline__cat_pipeline__cat_encoder\":[OneHotEncoder(sparse=False,drop=\"first\")]}\n",
        "                ]\n",
        "\n",
        "# create grid search\n",
        "grid = GridSearchCV(estimator=pipe, \n",
        "                    param_grid=search_space,\n",
        "                    cv=StratifiedKFold(n_splits=num_folds,random_state=seed,shuffle=True),\n",
        "                    scoring=scoring,\n",
        "                    return_train_score=True,\n",
        "                    n_jobs=-1,\n",
        "                    refit=\"Accuracy\",\n",
        "                    verbose = 1)\n",
        "\n",
        "### fit grid search\n",
        "all_models = grid.fit(X_train, y_train)"
      ],
      "execution_count": 219,
      "outputs": [
        {
          "output_type": "stream",
          "text": [
            "Fitting 10 folds for each of 36 candidates, totalling 360 fits\n"
          ],
          "name": "stdout"
        },
        {
          "output_type": "stream",
          "text": [
            "[Parallel(n_jobs=-1)]: Using backend LokyBackend with 2 concurrent workers.\n",
            "[Parallel(n_jobs=-1)]: Done  46 tasks      | elapsed:   15.4s\n",
            "[Parallel(n_jobs=-1)]: Done 196 tasks      | elapsed:  2.1min\n",
            "[Parallel(n_jobs=-1)]: Done 360 out of 360 | elapsed:  4.6min finished\n"
          ],
          "name": "stderr"
        }
      ]
    },
    {
      "cell_type": "code",
      "metadata": {
        "colab": {
          "base_uri": "https://localhost:8080/"
        },
        "id": "agODYw6dC-tt",
        "outputId": "2982149b-632c-4a1c-cde9-bba2c988d0a6"
      },
      "source": [
        "## Verificando o melhor resultado para o modelo\n",
        "\n",
        "print(\"Melhor resultado: %f usando %s\" % (all_models.best_score_,all_models.best_params_))"
      ],
      "execution_count": 220,
      "outputs": [
        {
          "output_type": "stream",
          "text": [
            "Melhor resultado: 0.786068 usando {'classifier': GradientBoostingClassifier(learning_rate=0.01, n_estimators=500,\n",
            "                           random_state=15), 'classifier__learning_rate': 0.01, 'classifier__n_estimators': 500, 'classifier__random_state': 15, 'fs__k': 17, 'fs__score_func': <function f_classif at 0x7fd19dc52048>, 'full_pipeline__cat_pipeline__cat_encoder': OneHotEncoder(drop='first', sparse=False)}\n"
          ],
          "name": "stdout"
        }
      ]
    },
    {
      "cell_type": "code",
      "metadata": {
        "id": "5w_n6QjNlNtz"
      },
      "source": [
        "## Realizando a predição com o X de teste\n",
        "\n",
        "predict = all_models.predict(X_test)"
      ],
      "execution_count": 178,
      "outputs": []
    },
    {
      "cell_type": "code",
      "metadata": {
        "colab": {
          "base_uri": "https://localhost:8080/"
        },
        "id": "ziPwWqJTlQm3",
        "outputId": "5fc383d8-84a7-4c1c-d7db-c1c7cc7bafea"
      },
      "source": [
        "## Avaliando/Comparando o resultado com o Y de teste\n",
        "\n",
        "print(accuracy_score(y_test, predict))"
      ],
      "execution_count": 179,
      "outputs": [
        {
          "output_type": "stream",
          "text": [
            "0.7743362831858407\n"
          ],
          "name": "stdout"
        }
      ]
    },
    {
      "cell_type": "code",
      "metadata": {
        "colab": {
          "base_uri": "https://localhost:8080/",
          "height": 278
        },
        "id": "RWy01ANZlWDb",
        "outputId": "8fa1bc63-0de9-471f-dc65-7319c42f1aea"
      },
      "source": [
        "## Desenhando a matriz de confusão em um gráfico\n",
        "\n",
        "fig, ax = plt.subplots(1,1,figsize=(7,4))\n",
        "\n",
        "ConfusionMatrixDisplay(confusion_matrix(predict,y_test,labels=[\"preparado\",\"não preparado\"]),\n",
        "                       display_labels=[\"preparado\",\"não preparado\"]).plot(values_format=\".0f\",ax=ax)\n",
        "\n",
        "ax.set_xlabel(\"True Label\")\n",
        "ax.set_ylabel(\"Predicted Label\")\n",
        "plt.show()"
      ],
      "execution_count": 181,
      "outputs": [
        {
          "output_type": "display_data",
          "data": {
            "image/png": "[encoded data removed]",
            "text/plain": [
              "<Figure size 504x288 with 2 Axes>"
            ]
          },
          "metadata": {
            "tags": [],
            "needs_background": "light"
          }
        }
      ]
    },
    {
      "cell_type": "code",
      "metadata": {
        "id": "JrZN4IkXX0Lv"
      },
      "source": [
        "### ^\n",
        "### O que se nota acima é apenas são pequenos níveis de dificuldade para a \n",
        "###     categorização dos municípios. mais precisamente entre leves e moderados"
      ],
      "execution_count": null,
      "outputs": []
    },
    {
      "cell_type": "code",
      "metadata": {
        "colab": {
          "base_uri": "https://localhost:8080/",
          "height": 1000
        },
        "id": "CjL8tBi3l0aI",
        "outputId": "515be5ff-f847-4241-a6a7-05ef65b90d6b"
      },
      "source": [
        "## Investigando de que forma as variáveis contribuíram para o resultado\n",
        "\n",
        "# columns used in the model (k columns)\n",
        "features = all_models.best_estimator_.named_steps['fs']\n",
        "\n",
        "# All information is trackable going back in the Pipeline\n",
        "# categorical columns\n",
        "features_full = all_models.best_estimator_.named_steps['full_pipeline']\n",
        "features_cat = features_full.get_params()[\"cat_pipeline\"]\n",
        "\n",
        "# numerical columns\n",
        "features_full.get_params()[\"num_pipeline\"][1].get_feature_names()\n",
        "\n",
        "# all columns (cat + num)\n",
        "all_columns = features_cat[1].get_feature_names() + features_full.get_params()[\"num_pipeline\"][1].get_feature_names()\n",
        "\n",
        "\n",
        "selected_columns = [value for (value, filter) in zip(all_columns, features.get_support()) if filter]\n",
        "print(selected_columns)\n",
        "\n",
        "fig, ax = plt.subplots(1,1,figsize=(12,8))\n",
        "xticks = [x for x in range(len(features.scores_))] \n",
        "ax.bar(xticks, features.scores_)\n",
        "ax.set_xticks(xticks)\n",
        "ax.set_xticklabels(all_columns,rotation=90)\n",
        "#ax.set_xticks(ticks=xticks, labels=all_columns,rotation=90,fontsize=15)\n",
        "ax.set_title(\"Feature Importance using Bestkselect\")\n",
        "plt.show()\n",
        "\n",
        "classifier = all_models.best_estimator_.named_steps['classifier']\n",
        "print(classifier)\n",
        "\n",
        "# classifier.feature_importances_.shape\n",
        "fig, ax = plt.subplots(1,1,figsize=(12,8))\n",
        "\n",
        "xticks = [x for x in range(len(classifier.feature_importances_))] \n",
        "ax.bar(xticks, classifier.feature_importances_)\n",
        "ax.set_xticks(xticks)\n",
        "ax.set_xticklabels(selected_columns,rotation=90)\n",
        "#ax.set_xticks(ticks=xticks, labels=all_columns,rotation=90,fontsize=15)\n",
        "ax.set_title(\"Feature Importance\")\n",
        "plt.show()"
      ],
      "execution_count": 182,
      "outputs": [
        {
          "output_type": "stream",
          "text": [
            "['RegMetro', 'Região', 'PMATPUB_EF', 'PMATPUB_EM', 'IDEB_AI', 'IDEB_AF', 'DOCSUP_EM_PUB', 'TXMOINF', 'TXBRUTAMORT', 'PINTERSAP', 'PINTERDRSAI', 'REN_TRPCBF_D', 'REN_TRPCBPC_D', 'PDEFAGUA', 'PDEFESGOTO', 'POP_TOT', 'LON']\n"
          ],
          "name": "stdout"
        },
        {
          "output_type": "display_data",
          "data": {
            "image/png": "[encoded data removed]",
            "text/plain": [
              "<Figure size 864x576 with 1 Axes>"
            ]
          },
          "metadata": {
            "tags": [],
            "needs_background": "light"
          }
        },
        {
          "output_type": "stream",
          "text": [
            "DecisionTreeClassifier(criterion='entropy')\n"
          ],
          "name": "stdout"
        },
        {
          "output_type": "display_data",
          "data": {
            "image/png": "[encoded data removed]",
            "text/plain": [
              "<Figure size 864x576 with 1 Axes>"
            ]
          },
          "metadata": {
            "tags": [],
            "needs_background": "light"
          }
        }
      ]
    },
    {
      "cell_type": "code",
      "metadata": {
        "id": "RCcicaGkIDqE"
      },
      "source": [
        ""
      ],
      "execution_count": null,
      "outputs": []
    }
  ]
}